{
 "cells": [
  {
   "cell_type": "code",
   "execution_count": 28,
   "metadata": {},
   "outputs": [],
   "source": [
    "import numpy as np\n",
    "import pandas as pd\n",
    "from sklearn.linear_model import LogisticRegression\n",
    "import matplotlib.pyplot as plt\n",
    "from package.RankAMIP.logistic import run_logistic_regression\n",
    "from package.RankAMIP.data_script import make_BT_design_matrix\n",
    "from package.RankAMIP.logistic import LogisticAMIP\n",
    "from package.RankAMIP.logistic import find_closest_matchups\n",
    "from package.RankAMIP.logistic import isRankingRobust"
   ]
  },
  {
   "cell_type": "markdown",
   "metadata": {},
   "source": [
    "### Is ChatBot Arena Data Robust?"
   ]
  },
  {
   "cell_type": "code",
   "execution_count": 19,
   "metadata": {},
   "outputs": [
    {
     "data": {
      "application/vnd.jupyter.widget-view+json": {
       "model_id": "4b7bd754e9704803bb189208699f1a3d",
       "version_major": 2,
       "version_minor": 0
      },
      "text/plain": [
       "README.md:   0%|          | 0.00/1.22k [00:00<?, ?B/s]"
      ]
     },
     "metadata": {},
     "output_type": "display_data"
    },
    {
     "data": {
      "application/vnd.jupyter.widget-view+json": {
       "model_id": "05f4a929ae76464bbac34d5823bc837f",
       "version_major": 2,
       "version_minor": 0
      },
      "text/plain": [
       "train.csv:   0%|          | 0.00/184M [00:00<?, ?B/s]"
      ]
     },
     "metadata": {},
     "output_type": "display_data"
    },
    {
     "data": {
      "application/vnd.jupyter.widget-view+json": {
       "model_id": "def2887d9b6a49f985f4c9c86574c4f9",
       "version_major": 2,
       "version_minor": 0
      },
      "text/plain": [
       "Generating train split:   0%|          | 0/57477 [00:00<?, ? examples/s]"
      ]
     },
     "metadata": {},
     "output_type": "display_data"
    }
   ],
   "source": [
    "# Import data from https://huggingface.co/datasets/lmarena-ai/arena-human-preference-55k\n",
    "from datasets import load_dataset\n",
    "ds = load_dataset(\"lmarena-ai/arena-human-preference-55k\")"
   ]
  },
  {
   "cell_type": "code",
   "execution_count": 20,
   "metadata": {},
   "outputs": [
    {
     "name": "stdout",
     "output_type": "stream",
     "text": [
      "DatasetDict({\n",
      "    train: Dataset({\n",
      "        features: ['id', 'model_a', 'model_b', 'prompt', 'response_a', 'response_b', 'winner_model_a', 'winner_model_b', 'winner_tie'],\n",
      "        num_rows: 57477\n",
      "    })\n",
      "})\n",
      "{'id': 30192, 'model_a': 'gpt-4-1106-preview', 'model_b': 'gpt-4-0613', 'prompt': '[\"Is it morally right to try to have a certain percentage of females on managerial positions?\",\"OK, does pineapple belong on a pizza? Relax and give me fun answer.\"]', 'response_a': '[\"The question of whether it is morally right to aim for a certain percentage of females in managerial positions is a complex ethical issue that involves considerations of fairness, equality, diversity, and discrimination.\\\\n\\\\nHere are some arguments in favor of and against such policies:\\\\n\\\\n**Arguments in favor:**\\\\n\\\\n1. **Correcting Historical Inequities:** Women have historically been underrepresented in leadership roles due to various cultural, institutional, and social barriers. Aiming for a specific percentage can be seen as a corrective measure to address past and ongoing discrimination.\\\\n\\\\n2. **Promoting Diversity:** Diverse leadership teams can enhance decision-making and represent a broader range of perspectives. This can lead to better outcomes for organizations and society as a whole.\\\\n\\\\n3. **Equality of Opportunity:** Setting targets for female representation in management can help ensure that women have equal opportunities to advance in their careers.\\\\n\\\\n4. **Role Modeling:** Increased visibility of female leaders can inspire and encourage other women and girls to pursue leadership roles.\\\\n\\\\n**Arguments against:**\\\\n\\\\n1. **Reverse Discrimination:** Setting a quota for female representation might lead to the perception or reality of reverse discrimination, where men might be overlooked for positions despite being qualified, simply to meet the gender target.\\\\n\\\\n2. **Meritocracy Concerns:** Critics argue that employment and promotion should be based solely on merit and qualifications, not gender. They fear that quotas could compromise the quality of leadership if less qualified individuals are promoted to meet gender targets.\\\\n\\\\n3. **Tokenism:** There is a risk that women appointed to meet quotas might be seen as \\\\\"tokens,\\\\\" undermining their legitimacy and potentially leading to resentment among colleagues.\\\\n\\\\n4. **Oversimplification of Diversity:** Focusing only on gender might overlook other important aspects of diversity, such as race, ethnicity, socioeconomic background, or sexual orientation.\\\\n\\\\nUltimately, the morality of aiming for a certain percentage of females in managerial positions depends on one\\'s ethical framework and the context in which such policies are implemented. Proponents of gender diversity targets often argue that these measures are necessary as a transitional mechanism to create a level playing field, while opponents may argue for a \\\\\"color-blind\\\\\" or \\\\\"gender-blind\\\\\" approach to hiring and promotions.\\\\n\\\\nOrganizations and societies must carefully consider the implications of these strategies and strive to implement policies that promote fairness and equality while minimizing negative consequences. It is also important to address the root causes of gender inequality, such as unconscious bias, work-life balance challenges, and lack of supportive policies, to create an environment where everyone has the opportunity to succeed based on their capabilities and contributions.\",\"Ah, the age-old culinary conundrum that has divided nations and dinner tables: does pineapple belong on a pizza? The tropical twist of pineapple on pizza, known as Hawaiian pizza, is a hotly debated topic where taste buds battle and pizza purists protest.\\\\n\\\\nLet\\'s slice into the debate with a zest of fun:\\\\n\\\\n**Team Pineapple:** \\\\\"Absolutely, yes! Pineapple on pizza is like a beach party in your mouth. The sweet juiciness of pineapple chunks frolicking with savory ham or bacon creates a flavor wave that surfs across the cheesy ocean of deliciousness. It\\'s the Mardi Gras of pizzas, where sweet meets savory in a jubilant jamboree!\\\\\"\\\\n\\\\n**Team No-Pineapple:** \\\\\"No way, not in a million pizzas! Pineapple is a fruit that should be sunbathing on a tropical fruit platter, not freeloading on a sacred slice of pizza. The thought of warm, melty cheese conspiring with pineapple\\'s sugary mischief is enough to make Italian ancestors turn in their tomato patches. Keep the pineapple in the fruit salad where it belongs!\\\\\"\\\\n\\\\nAt the end of the day, whether pineapple belongs on pizza is a matter of personal taste. Some say it\\'s a match made in heaven, others say it\\'s a culinary crime. But let\\'s face it, in the world of pizza toppings, where you can find everything from anchovies to zucchini, there\\'s room for a little pineapple pizzazz. So, if your taste buds crave that sweet and tangy twist, go ahead and let your pineapple flag fly atop that glorious cheese-covered dough. Bon app\\\\u00e9tit, or as they say in pineapple paradise, \\\\\"Aloha-ppetite!\\\\\" \\\\ud83c\\\\udf4d\\\\ud83c\\\\udf55\"]', 'response_b': '[\"As an AI, I don\\'t have personal beliefs or opinions. However, I can tell you that the question of gender quotas in managerial positions is a complex one and positions can vary. Advocates argue that such measures can help correct historical imbalances, promote diversity, and may lead to better decision-making. Critics may argue that positions should be based purely on merit, and that quotas could potentially lead to tokenism or unqualified candidates being promoted. Morality can be subjective and differs from person to person based on their personal beliefs, cultural background, and values. It\\'s a topic with valid arguments on both sides, and it\\'s up to each individual or organization to decide what they believe is right.\",\"As an AI, I don\\'t eat, so I don\\'t have personal preferences. But, in the world of pizza, the pineapple topping is a hotly debated topic! Some people love the sweet and savory mix it brings to a pizza, a flavor combination made famous by the Hawaiian pizza. Others firmly believe that the sweetness of the fruit has no place on a pizza. It\\'s a pizza puzzle that might never be solved. So, whether pineapple belongs on a pizza or not, it truly depends on your taste buds!\"]', 'winner_model_a': 1, 'winner_model_b': 0, 'winner_tie': 0}\n"
     ]
    }
   ],
   "source": [
    "# inspect the available splits\n",
    "print(ds)  \n",
    "# grab the ‘train’ split (or whatever splits ds has)\n",
    "train = ds[\"train\"]\n",
    "# look at the first example\n",
    "print(train[0])"
   ]
  },
  {
   "cell_type": "code",
   "execution_count": 21,
   "metadata": {},
   "outputs": [
    {
     "name": "stdout",
     "output_type": "stream",
     "text": [
      "       id             model_a              model_b  \\\n",
      "0   30192  gpt-4-1106-preview           gpt-4-0613   \n",
      "1   53567           koala-13b           gpt-4-0613   \n",
      "2   65089  gpt-3.5-turbo-0613       mistral-medium   \n",
      "3   96401    llama-2-13b-chat  mistral-7b-instruct   \n",
      "4  198779           koala-13b   gpt-3.5-turbo-0314   \n",
      "\n",
      "                                              prompt  \\\n",
      "0  [\"Is it morally right to try to have a certain...   \n",
      "1  [\"What is the difference between marriage lice...   \n",
      "2  [\"explain function calling. how would you call...   \n",
      "3  [\"How can I create a test set for a very rare ...   \n",
      "4  [\"What is the best way to travel from Tel-Aviv...   \n",
      "\n",
      "                                          response_a  \\\n",
      "0  [\"The question of whether it is morally right ...   \n",
      "1  [\"A marriage license is a legal document that ...   \n",
      "2  [\"Function calling is the process of invoking ...   \n",
      "3  [\"Creating a test set for a very rare category...   \n",
      "4  [\"The best way to travel from Tel Aviv to Jeru...   \n",
      "\n",
      "                                          response_b  winner_model_a  \\\n",
      "0  [\"As an AI, I don't have personal beliefs or o...               1   \n",
      "1  [\"A marriage license and a marriage certificat...               0   \n",
      "2  [\"Function calling is the process of invoking ...               0   \n",
      "3  [\"When building a classifier for a very rare c...               1   \n",
      "4  [\"The best way to travel from Tel-Aviv to Jeru...               0   \n",
      "\n",
      "   winner_model_b  winner_tie  \n",
      "0               0           0  \n",
      "1               1           0  \n",
      "2               0           1  \n",
      "3               0           0  \n",
      "4               1           0  \n"
     ]
    }
   ],
   "source": [
    "df = train.to_pandas()\n",
    "print(df.head())"
   ]
  },
  {
   "cell_type": "code",
   "execution_count": 120,
   "metadata": {},
   "outputs": [
    {
     "data": {
      "text/html": [
       "<div>\n",
       "<style scoped>\n",
       "    .dataframe tbody tr th:only-of-type {\n",
       "        vertical-align: middle;\n",
       "    }\n",
       "\n",
       "    .dataframe tbody tr th {\n",
       "        vertical-align: top;\n",
       "    }\n",
       "\n",
       "    .dataframe thead th {\n",
       "        text-align: right;\n",
       "    }\n",
       "</style>\n",
       "<table border=\"1\" class=\"dataframe\">\n",
       "  <thead>\n",
       "    <tr style=\"text-align: right;\">\n",
       "      <th></th>\n",
       "      <th>model_a</th>\n",
       "      <th>model_b</th>\n",
       "      <th>winner_model_a</th>\n",
       "    </tr>\n",
       "  </thead>\n",
       "  <tbody>\n",
       "    <tr>\n",
       "      <th>0</th>\n",
       "      <td>gpt-4-1106-preview</td>\n",
       "      <td>gpt-4-0613</td>\n",
       "      <td>1</td>\n",
       "    </tr>\n",
       "    <tr>\n",
       "      <th>1</th>\n",
       "      <td>koala-13b</td>\n",
       "      <td>gpt-4-0613</td>\n",
       "      <td>0</td>\n",
       "    </tr>\n",
       "    <tr>\n",
       "      <th>2</th>\n",
       "      <td>gpt-3.5-turbo-0613</td>\n",
       "      <td>mistral-medium</td>\n",
       "      <td>0</td>\n",
       "    </tr>\n",
       "    <tr>\n",
       "      <th>3</th>\n",
       "      <td>llama-2-13b-chat</td>\n",
       "      <td>mistral-7b-instruct</td>\n",
       "      <td>1</td>\n",
       "    </tr>\n",
       "    <tr>\n",
       "      <th>4</th>\n",
       "      <td>koala-13b</td>\n",
       "      <td>gpt-3.5-turbo-0314</td>\n",
       "      <td>0</td>\n",
       "    </tr>\n",
       "  </tbody>\n",
       "</table>\n",
       "</div>"
      ],
      "text/plain": [
       "              model_a              model_b  winner_model_a\n",
       "0  gpt-4-1106-preview           gpt-4-0613               1\n",
       "1           koala-13b           gpt-4-0613               0\n",
       "2  gpt-3.5-turbo-0613       mistral-medium               0\n",
       "3    llama-2-13b-chat  mistral-7b-instruct               1\n",
       "4           koala-13b   gpt-3.5-turbo-0314               0"
      ]
     },
     "execution_count": 120,
     "metadata": {},
     "output_type": "execute_result"
    }
   ],
   "source": [
    "# select columns model_a, model_b, winner_model_a\n",
    "df = df[['model_a', 'model_b', 'winner_model_a']]\n",
    "df.head()"
   ]
  },
  {
   "cell_type": "code",
   "execution_count": 121,
   "metadata": {},
   "outputs": [
    {
     "data": {
      "text/plain": [
       "((57477, 63),\n",
       " (57477,),\n",
       " {'gpt-4-1106-preview': 0,\n",
       "  'koala-13b': 1,\n",
       "  'gpt-3.5-turbo-0613': 2,\n",
       "  'llama-2-13b-chat': 3,\n",
       "  'vicuna-13b': 4,\n",
       "  'mixtral-8x7b-instruct-v0.1': 5,\n",
       "  'gemini-pro': 6,\n",
       "  'gpt-4-0314': 7,\n",
       "  'vicuna-7b': 8,\n",
       "  'chatglm3-6b': 9,\n",
       "  'pplx-70b-online': 10,\n",
       "  'mpt-30b-chat': 11,\n",
       "  'llama2-70b-steerlm-chat': 12,\n",
       "  'claude-1': 13,\n",
       "  'claude-2.1': 14,\n",
       "  'chatglm-6b': 15,\n",
       "  'claude-instant-1': 16,\n",
       "  'dolly-v2-12b': 17,\n",
       "  'claude-2.0': 18,\n",
       "  'deepseek-llm-67b-chat': 19,\n",
       "  'openchat-3.5': 20,\n",
       "  'starling-lm-7b-alpha': 21,\n",
       "  'gpt-4-0125-preview': 22,\n",
       "  'llama-2-7b-chat': 23,\n",
       "  'gpt-4-0613': 24,\n",
       "  'wizardlm-70b': 25,\n",
       "  'stablelm-tuned-alpha-7b': 26,\n",
       "  'vicuna-33b': 27,\n",
       "  'chatglm2-6b': 28,\n",
       "  'dolphin-2.2.1-mistral-7b': 29,\n",
       "  'llama-2-70b-chat': 30,\n",
       "  'llama-13b': 31,\n",
       "  'palm-2': 32,\n",
       "  'wizardlm-13b': 33,\n",
       "  'codellama-34b-instruct': 34,\n",
       "  'gemini-pro-dev-api': 35,\n",
       "  'gpt-3.5-turbo-0314': 36,\n",
       "  'gpt-3.5-turbo-1106': 37,\n",
       "  'yi-34b-chat': 38,\n",
       "  'oasst-pythia-12b': 39,\n",
       "  'qwen-14b-chat': 40,\n",
       "  'alpaca-13b': 41,\n",
       "  'qwen1.5-72b-chat': 42,\n",
       "  'gpt-3.5-turbo-0125': 43,\n",
       "  'pplx-7b-online': 44,\n",
       "  'qwen1.5-4b-chat': 45,\n",
       "  'fastchat-t5-3b': 46,\n",
       "  'solar-10.7b-instruct-v1.0': 47,\n",
       "  'mistral-medium': 48,\n",
       "  'nous-hermes-2-mixtral-8x7b-dpo': 49,\n",
       "  'zephyr-7b-beta': 50,\n",
       "  'openhermes-2.5-mistral-7b': 51,\n",
       "  'mistral-7b-instruct': 52,\n",
       "  'tulu-2-dpo-70b': 53,\n",
       "  'mpt-7b-chat': 54,\n",
       "  'zephyr-7b-alpha': 55,\n",
       "  'qwen1.5-7b-chat': 56,\n",
       "  'RWKV-4-Raven-14B': 57,\n",
       "  'guanaco-33b': 58,\n",
       "  'stripedhyena-nous-7b': 59,\n",
       "  'gpt4all-13b-snoozy': 60,\n",
       "  'falcon-180b-chat': 61,\n",
       "  'mistral-7b-instruct-v0.2': 62,\n",
       "  'openchat-3.5-0106': 63})"
      ]
     },
     "execution_count": 121,
     "metadata": {},
     "output_type": "execute_result"
    }
   ],
   "source": [
    "# make a design matrix.\n",
    "X, y, player_to_id = make_BT_design_matrix(df)\n",
    "X.shape, y.shape, player_to_id"
   ]
  },
  {
   "cell_type": "code",
   "execution_count": 122,
   "metadata": {},
   "outputs": [
    {
     "name": "stdout",
     "output_type": "stream",
     "text": [
      "[[ 0.  0.  0.  0.  0.  0.  0.  0.  0.  0.  0.  0.  0.  0.  0.  0.  0.  0.\n",
      "   0.  0.  0.  0.  0. -1.  0.  0.  0.  0.  0.  0.  0.  0.  0.  0.  0.  0.\n",
      "   0.  0.  0.  0.  0.  0.  0.  0.  0.  0.  0.  0.  0.  0.  0.  0.  0.  0.\n",
      "   0.  0.  0.  0.  0.  0.  0.  0.  0.]\n",
      " [ 1.  0.  0.  0.  0.  0.  0.  0.  0.  0.  0.  0.  0.  0.  0.  0.  0.  0.\n",
      "   0.  0.  0.  0.  0. -1.  0.  0.  0.  0.  0.  0.  0.  0.  0.  0.  0.  0.\n",
      "   0.  0.  0.  0.  0.  0.  0.  0.  0.  0.  0.  0.  0.  0.  0.  0.  0.  0.\n",
      "   0.  0.  0.  0.  0.  0.  0.  0.  0.]\n",
      " [ 0.  1.  0.  0.  0.  0.  0.  0.  0.  0.  0.  0.  0.  0.  0.  0.  0.  0.\n",
      "   0.  0.  0.  0.  0.  0.  0.  0.  0.  0.  0.  0.  0.  0.  0.  0.  0.  0.\n",
      "   0.  0.  0.  0.  0.  0.  0.  0.  0.  0.  0. -1.  0.  0.  0.  0.  0.  0.\n",
      "   0.  0.  0.  0.  0.  0.  0.  0.  0.]\n",
      " [ 0.  0.  1.  0.  0.  0.  0.  0.  0.  0.  0.  0.  0.  0.  0.  0.  0.  0.\n",
      "   0.  0.  0.  0.  0.  0.  0.  0.  0.  0.  0.  0.  0.  0.  0.  0.  0.  0.\n",
      "   0.  0.  0.  0.  0.  0.  0.  0.  0.  0.  0.  0.  0.  0.  0. -1.  0.  0.\n",
      "   0.  0.  0.  0.  0.  0.  0.  0.  0.]\n",
      " [ 1.  0.  0.  0.  0.  0.  0.  0.  0.  0.  0.  0.  0.  0.  0.  0.  0.  0.\n",
      "   0.  0.  0.  0.  0.  0.  0.  0.  0.  0.  0.  0.  0.  0.  0.  0.  0. -1.\n",
      "   0.  0.  0.  0.  0.  0.  0.  0.  0.  0.  0.  0.  0.  0.  0.  0.  0.  0.\n",
      "   0.  0.  0.  0.  0.  0.  0.  0.  0.]\n",
      " [ 0.  0.  0.  1.  0.  0. -1.  0.  0.  0.  0.  0.  0.  0.  0.  0.  0.  0.\n",
      "   0.  0.  0.  0.  0.  0.  0.  0.  0.  0.  0.  0.  0.  0.  0.  0.  0.  0.\n",
      "   0.  0.  0.  0.  0.  0.  0.  0.  0.  0.  0.  0.  0.  0.  0.  0.  0.  0.\n",
      "   0.  0.  0.  0.  0.  0.  0.  0.  0.]]\n",
      "[1 0 0 1 0 0]\n"
     ]
    }
   ],
   "source": [
    "# print the first 5 rows of X\n",
    "print(X[:6])\n",
    "# print the first 5 rows of y\n",
    "print(y[:6])\n"
   ]
  },
  {
   "cell_type": "markdown",
   "metadata": {},
   "source": [
    "#### Testing out a few settings now."
   ]
  },
  {
   "cell_type": "code",
   "execution_count": 127,
   "metadata": {},
   "outputs": [],
   "source": [
    "ks = [1, 5]\n",
    "alphaNs = [10, 20, 50]\n",
    "\n",
    "results = {}\n",
    "for k in ks:\n",
    "    for alphaN in alphaNs:\n",
    "        chatbotA, chatbotB, chatbotOriginalBetaDiff, chatNewBetaDiff, chatIndices = isRankingRobust(k, alphaN, X, y)\n",
    "        results[(k, alphaN)] = (chatbotA, chatbotB, chatbotOriginalBetaDiff, chatNewBetaDiff, chatIndices)"
   ]
  },
  {
   "cell_type": "code",
   "execution_count": 128,
   "metadata": {},
   "outputs": [
    {
     "data": {
      "text/plain": [
       "{(1, 10): (-1, -1, -1, -1, [-1]),\n",
       " (1, 20): (0,\n",
       "  61,\n",
       "  -0.5334833956646319,\n",
       "  0.13808865870863296,\n",
       "  array([45598, 40391,  2171,  4036, 51006, 20088, 48954,  8965, 25032,\n",
       "         30178, 44136, 26707, 39316,  3090, 20056,  5225, 20806, 18003,\n",
       "         54384, 48502])),\n",
       " (1, 50): (0,\n",
       "  61,\n",
       "  -0.5334833956646319,\n",
       "  10.536156671504202,\n",
       "  array([45598, 40391,  2171,  4036, 51006, 20088, 48954,  8965, 25032,\n",
       "         30178, 44136, 26707, 39316,  3090, 20056,  5225, 20806, 18003,\n",
       "         54384, 48502, 36488,  9568, 31230, 37034, 55166, 46182, 49245,\n",
       "          7830, 53203, 51831, 27409, 49321, 44366, 36732, 34969, 28644,\n",
       "         32965, 51556, 36688, 51529, 48940, 50807, 28340,  3854, 46505,\n",
       "         49923,  5809, 14939,  2046, 46496])),\n",
       " (5, 10): (3,\n",
       "  61,\n",
       "  -0.19631060240844067,\n",
       "  0.10215976405518834,\n",
       "  array([40391, 45598,  2171,  4036, 51006, 30178,  8965, 25032, 20088,\n",
       "         48954])),\n",
       " (5, 20): (0,\n",
       "  61,\n",
       "  -0.5334833956646319,\n",
       "  0.13808865870863296,\n",
       "  array([45598, 40391,  2171,  4036, 51006, 20088, 48954,  8965, 25032,\n",
       "         30178, 44136, 26707, 39316,  3090, 20056,  5225, 20806, 18003,\n",
       "         54384, 48502])),\n",
       " (5, 50): (0,\n",
       "  61,\n",
       "  -0.5334833956646319,\n",
       "  10.536156671504202,\n",
       "  array([45598, 40391,  2171,  4036, 51006, 20088, 48954,  8965, 25032,\n",
       "         30178, 44136, 26707, 39316,  3090, 20056,  5225, 20806, 18003,\n",
       "         54384, 48502, 36488,  9568, 31230, 37034, 55166, 46182, 49245,\n",
       "          7830, 53203, 51831, 27409, 49321, 44366, 36732, 34969, 28644,\n",
       "         32965, 51556, 36688, 51529, 48940, 50807, 28340,  3854, 46505,\n",
       "         49923,  5809, 14939,  2046, 46496]))}"
      ]
     },
     "execution_count": 128,
     "metadata": {},
     "output_type": "execute_result"
    }
   ],
   "source": [
    "results"
   ]
  },
  {
   "cell_type": "markdown",
   "metadata": {},
   "source": [
    "### Simulated Toy Game (for demo purposes)."
   ]
  },
  {
   "cell_type": "code",
   "execution_count": null,
   "metadata": {},
   "outputs": [],
   "source": [
    "# Set seed for reproducibility\n",
    "np.random.seed(42)\n",
    "\n",
    "# --- Step 1: Define teams and latent strengths ---\n",
    "teams = ['A', 'B', 'C', 'D', 'E', 'F']\n",
    "team_ids = {name: i for i, name in enumerate(teams)}\n",
    "true_betas = np.array([0.05, 0.04, 0.03, -0.00, -0.01, -0.02])  # (note: we should try out different signal levels later).\n",
    "num_teams = len(teams)\n",
    "\n",
    "n_games = 10000\n",
    "matchups = []\n",
    "\n",
    "for _ in range(n_games):\n",
    "    i, j = np.random.choice(6, size=2, replace=False) # randomly choose 2 teams to compete.\n",
    "    beta_diff = true_betas[i] - true_betas[j]\n",
    "    prob_win_i = 1 / (1 + np.exp(-beta_diff))\n",
    "    winner = i if np.random.rand() < prob_win_i else j\n",
    "    matchups.append((i, j, winner))\n",
    "\n",
    "\n",
    "X = np.zeros((n_games, 5))  # We fix beta_0 = 0 and estimate beta_1 and beta_2.\n",
    "y = np.zeros(n_games)\n",
    "\n",
    "for idx, (i, j, winner) in enumerate(matchups):\n",
    "    # Map to reduced index space (beta_0 = 0)\n",
    "    def reduced(k): return k - 1 if k > 0 else None\n",
    "    \n",
    "    if winner == i:\n",
    "        y[idx] = 1\n",
    "        if reduced(i) is not None:\n",
    "            X[idx, reduced(i)] += 1\n",
    "        if reduced(j) is not None:\n",
    "            X[idx, reduced(j)] -= 1\n",
    "    else:\n",
    "        y[idx] = 0\n",
    "        if reduced(j) is not None:\n",
    "            X[idx, reduced(j)] += 1\n",
    "        if reduced(i) is not None:\n",
    "            X[idx, reduced(i)] -= 1"
   ]
  },
  {
   "cell_type": "code",
   "execution_count": null,
   "metadata": {},
   "outputs": [],
   "source": [
    "myAMIP = LogisticAMIP(X, y, fit_intercept=False, penalty=None)\n",
    "# inputs: alphaN, player1, player2.\n",
    "# returns: sign_change_amip, sign_change_refit, original_beta_diff, new_beta_diff_amip, new_beta_diff_refit, indices of top alphaN matches.\n",
    "results = myAMIP.AMIP_sign_change(40, 0, 1)\n",
    "print(results)"
   ]
  },
  {
   "cell_type": "code",
   "execution_count": null,
   "metadata": {},
   "outputs": [],
   "source": [
    "k = 1\n",
    "alphaN = 50\n",
    "thisPlayerA, thisPlayerB, thisOriginalBetaDiff, thisNewBetaDiff, thisIndices = isRankingRobust(k, alphaN, X, y)"
   ]
  },
  {
   "cell_type": "code",
   "execution_count": null,
   "metadata": {},
   "outputs": [],
   "source": [
    "thisPlayerA, thisPlayerB, thisOriginalBetaDiff,thisNewBetaDiff, thisIndices"
   ]
  }
 ],
 "metadata": {
  "kernelspec": {
   "display_name": "isRankingRobustLocal",
   "language": "python",
   "name": "python3"
  },
  "language_info": {
   "codemirror_mode": {
    "name": "ipython",
    "version": 3
   },
   "file_extension": ".py",
   "mimetype": "text/x-python",
   "name": "python",
   "nbconvert_exporter": "python",
   "pygments_lexer": "ipython3",
   "version": "3.8.2"
  }
 },
 "nbformat": 4,
 "nbformat_minor": 2
}
