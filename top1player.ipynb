{
 "cells": [
  {
   "cell_type": "code",
   "execution_count": 245,
   "metadata": {},
   "outputs": [],
   "source": [
    "import numpy as np\n",
    "import pandas as pd\n",
    "import building_blocks as lrb\n",
    "from sklearn.linear_model import LogisticRegression\n",
    "from sklearn.metrics import log_loss\n",
    "import matplotlib.pyplot as plt"
   ]
  },
  {
   "cell_type": "markdown",
   "metadata": {},
   "source": [
    "# Let's start by looking at an example with 3 teams."
   ]
  },
  {
   "cell_type": "markdown",
   "metadata": {},
   "source": [
    "## First, we simulate some games data."
   ]
  },
  {
   "cell_type": "code",
   "execution_count": 281,
   "metadata": {},
   "outputs": [],
   "source": [
    "# Set seed for reproducibility\n",
    "np.random.seed(42)\n",
    "\n",
    "# --- Step 1: Define teams and latent strengths ---\n",
    "teams = ['A', 'B', 'C']\n",
    "team_ids = {name: i for i, name in enumerate(teams)}\n",
    "true_betas = np.array([0.0, 0.05, -0.05])  # (note: we should try out different signal levels later) beta_A=0, beta_B=0.05, beta_C=-0.05\n"
   ]
  },
  {
   "cell_type": "code",
   "execution_count": 282,
   "metadata": {},
   "outputs": [],
   "source": [
    "# --- Step 2: Simulate 20 random matchups ---\n",
    "n_games = 1000\n",
    "matchups = []\n",
    "\n",
    "for _ in range(n_games):\n",
    "    i, j = np.random.choice(3, size=2, replace=False) # randomly choose 2 teams to compete.\n",
    "    beta_diff = true_betas[i] - true_betas[j]\n",
    "    prob_win_i = 1 / (1 + np.exp(-beta_diff))\n",
    "    winner = i if np.random.rand() < prob_win_i else j\n",
    "    matchups.append((i, j, winner))"
   ]
  },
  {
   "cell_type": "code",
   "execution_count": 283,
   "metadata": {},
   "outputs": [],
   "source": [
    "# --- Step 3: Create design matrix and outcome vector ---\n",
    "X = np.zeros((n_games, 2))  # We fix beta_0 = 0 and estimate beta_1 and beta_2.\n",
    "y = np.zeros(n_games)\n",
    "\n",
    "for idx, (i, j, winner) in enumerate(matchups):\n",
    "    # Map to reduced index space (beta_0 = 0)\n",
    "    def reduced(k): return k - 1 if k > 0 else None\n",
    "    \n",
    "    if winner == i:\n",
    "        y[idx] = 1\n",
    "        if reduced(i) is not None:\n",
    "            X[idx, reduced(i)] += 1\n",
    "        if reduced(j) is not None:\n",
    "            X[idx, reduced(j)] -= 1\n",
    "    else:\n",
    "        y[idx] = 0\n",
    "        if reduced(j) is not None:\n",
    "            X[idx, reduced(j)] += 1\n",
    "        if reduced(i) is not None:\n",
    "            X[idx, reduced(i)] -= 1"
   ]
  },
  {
   "cell_type": "code",
   "execution_count": 367,
   "metadata": {},
   "outputs": [
    {
     "name": "stdout",
     "output_type": "stream",
     "text": [
      "Match Outcomes:\n",
      "  team_i team_j winner\n",
      "0      A      B      B\n",
      "1      A      B      B\n",
      "2      A      B      A\n",
      "3      B      A      A\n",
      "4      A      B      A\n",
      "\n",
      "Design Matrix X:\n",
      "[[ 1.  0.]\n",
      " [ 1.  0.]\n",
      " [-1.  0.]\n",
      " [-1.  0.]\n",
      " [-1.  0.]]\n",
      "\n",
      "Outcome Vector y:\n",
      "[0. 0. 1. 0. 1.]\n"
     ]
    }
   ],
   "source": [
    "# --- Step 4: Display the data ---\n",
    "match_df = pd.DataFrame(matchups, columns=[\"team_i\", \"team_j\", \"winner\"])\n",
    "match_df[\"team_i\"] = match_df[\"team_i\"].map({v: k for k, v in team_ids.items()})\n",
    "match_df[\"team_j\"] = match_df[\"team_j\"].map({v: k for k, v in team_ids.items()})\n",
    "match_df[\"winner\"] = match_df[\"winner\"].map({v: k for k, v in team_ids.items()})\n",
    "print(\"Match Outcomes:\")\n",
    "print(match_df[:5])\n",
    "\n",
    "print(\"\\nDesign Matrix X:\")\n",
    "print(X[:5])\n",
    "\n",
    "print(\"\\nOutcome Vector y:\")\n",
    "print(y[:5])"
   ]
  },
  {
   "cell_type": "markdown",
   "metadata": {},
   "source": [
    "## Now, let's see if these rankings are robust to dropping just a little data."
   ]
  },
  {
   "cell_type": "markdown",
   "metadata": {},
   "source": [
    "#### Helpers, for now..."
   ]
  },
  {
   "cell_type": "code",
   "execution_count": 285,
   "metadata": {},
   "outputs": [],
   "source": [
    "def compute_leverage(\n",
    "    pos_p_hats: np.ndarray,\n",
    "    X: np.ndarray,\n",
    "    index: int,\n",
    "    y: np.ndarray,\n",
    ") -> float:\n",
    "    \"\"\"\n",
    "    pos_p_hats: np.array, shape (n,), the predicted probabilities.\n",
    "    X: np.array, shape (n, p), the design matrix.\n",
    "    index: int, the index of the data point whose influence we want to compute.\n",
    "    y: np.array, shape (n,), the response variable.\n",
    "\n",
    "    Compute the leverage of the index-th data point.\n",
    "    \"\"\"\n",
    "    v_lst = pos_p_hats * (1 - pos_p_hats)\n",
    "    V = np.diag(v_lst)\n",
    "    H = V @ X @ np.linalg.inv(X.T @ V @ X) @ X.T\n",
    "    return H[index, index]\n",
    "\n",
    "def compute_approx(\n",
    "    pos_p_hats: np.ndarray,\n",
    "    X: np.ndarray,\n",
    "    index: int,\n",
    "    y: np.ndarray,\n",
    "    method: str,\n",
    "    e: np.ndarray,\n",
    ") -> float:\n",
    "    \"\"\"\n",
    "    pos_p_hats: np.array, shape (n,), the predicted probabilities.\n",
    "    X: np.array, shape (n, p), the design matrix.\n",
    "    index: int, the index of the data point whose influence we want to compute.\n",
    "    y: np.array, shape (n,), the response variable.\n",
    "    method: str, the method to use to compute the approximation (\"1sN\" or \"IF\").\n",
    "    e: np.ndarray, shape (p,), the direction of the influence function.\n",
    "\n",
    "    Compute the influence function approximation of\n",
    "    the effect of infinitesimally upweighting the index-th\n",
    "    data point on a quantity of interest \n",
    "    (e.g., some linear combination of the \n",
    "    logistic regression coefficients,\n",
    "    determined by the choice of e).\n",
    "    \"\"\"\n",
    "    v_lst = pos_p_hats * (1 - pos_p_hats)\n",
    "    V = np.diag(v_lst)\n",
    "    if method == \"IF\":\n",
    "        influence_function = (\n",
    "            e @ np.linalg.inv(X.T @ V @ X) @ X[index] * (y[index] - pos_p_hats[index])\n",
    "        )\n",
    "        return influence_function[0]\n",
    "    elif method == \"1sN\":\n",
    "        influence_function = (\n",
    "            e @ np.linalg.inv(X.T @ V @ X) @ X[index] * (y[index] - pos_p_hats[index])\n",
    "        )\n",
    "        h_ii = compute_leverage(pos_p_hats, X, index, y)\n",
    "        return 1 / (1 - h_ii) * influence_function[0]\n",
    "    else:\n",
    "        return \"Invalid method.\""
   ]
  },
  {
   "cell_type": "markdown",
   "metadata": {},
   "source": [
    "### Fit a logistic regression model to the full data."
   ]
  },
  {
   "cell_type": "code",
   "execution_count": 286,
   "metadata": {},
   "outputs": [
    {
     "data": {
      "text/plain": [
       "array([-0.05874159, -0.04137445])"
      ]
     },
     "execution_count": 286,
     "metadata": {},
     "output_type": "execute_result"
    }
   ],
   "source": [
    "full_model = lrb.run_logistic_regression(X, y)\n",
    "full_model.coef_[0]"
   ]
  },
  {
   "cell_type": "code",
   "execution_count": 288,
   "metadata": {},
   "outputs": [
    {
     "name": "stdout",
     "output_type": "stream",
     "text": [
      "The original beta_A is -0.05874159142864451.\n",
      "The original beta_B is -0.04137444666699011.\n"
     ]
    }
   ],
   "source": [
    "# report coefficients.\n",
    "betaA_full, betaB_full = full_model.coef_[0]\n",
    "print(f'The original beta_A is {betaA_full}.')\n",
    "print(f'The original beta_B is {betaB_full}.')"
   ]
  },
  {
   "cell_type": "code",
   "execution_count": 289,
   "metadata": {},
   "outputs": [
    {
     "data": {
      "text/plain": [
       "array([0.48531882, 0.48531882, 0.51468118, 0.51468118, 0.51468118])"
      ]
     },
     "execution_count": 289,
     "metadata": {},
     "output_type": "execute_result"
    }
   ],
   "source": [
    "# report the predicted probabilities.\n",
    "pos_p_hats = full_model.predict_proba(X)[:, 1]\n",
    "pos_p_hats[:5]"
   ]
  },
  {
   "cell_type": "code",
   "execution_count": 290,
   "metadata": {},
   "outputs": [
    {
     "name": "stdout",
     "output_type": "stream",
     "text": [
      "(1, 2)\n",
      "(1, 2)\n"
     ]
    }
   ],
   "source": [
    "# this is the direction (in parameter space) that the influence function score is computed for.\n",
    "e_A = np.array([1, 0]).reshape(1, 2) # for beta_A > 0\n",
    "print(e_A.shape)\n",
    "e_AminusB = np.array([1, -1]).reshape(1, 2) # for beta_A > beta_B\n",
    "print(e_AminusB.shape)"
   ]
  },
  {
   "cell_type": "code",
   "execution_count": 291,
   "metadata": {},
   "outputs": [
    {
     "data": {
      "text/plain": [
       "array([-0.00406429, -0.00206754])"
      ]
     },
     "execution_count": 291,
     "metadata": {},
     "output_type": "execute_result"
    }
   ],
   "source": [
    "index = 1\n",
    "v_lst = pos_p_hats * (1 - pos_p_hats)\n",
    "V = np.diag(v_lst)\n",
    "# a vector of size num dimension (e.g., num teams - 1)\n",
    "np.linalg.inv(X.T @ V @ X) @ X[index] * (y[index] - pos_p_hats[index])"
   ]
  },
  {
   "cell_type": "markdown",
   "metadata": {},
   "source": [
    "### Approximately how many games need to be dropped for $\\beta_A > 0$ to no longer hold?\n",
    "conclusion: $\\beta_A > 0$ ends up being super robust to data dropping in this simulation."
   ]
  },
  {
   "cell_type": "code",
   "execution_count": 292,
   "metadata": {},
   "outputs": [
    {
     "data": {
      "text/plain": [
       "[-0.004072809929398967,\n",
       " -0.004072809929398967,\n",
       " 0.004319219665743556,\n",
       " -0.004072809929398967,\n",
       " -0.0020901598226093004]"
      ]
     },
     "execution_count": 292,
     "metadata": {},
     "output_type": "execute_result"
    }
   ],
   "source": [
    "# how many data points must be dropped to change beta_A.\n",
    "scores = []\n",
    "# compute the influence scores for all points.\n",
    "for ind in range(1, len(X)):\n",
    "    score_i = compute_approx(pos_p_hats, X, ind, y, \"1sN\", e_A)\n",
    "    scores.append(score_i)\n",
    "scores[:5]"
   ]
  },
  {
   "cell_type": "code",
   "execution_count": 293,
   "metadata": {},
   "outputs": [
    {
     "data": {
      "text/plain": [
       "array([-0.00407281, -0.00407281, -0.00407281, -0.00407281, -0.00407281])"
      ]
     },
     "execution_count": 293,
     "metadata": {},
     "output_type": "execute_result"
    }
   ],
   "source": [
    "# sort indices in ascending order.\n",
    "inds = np.argsort(scores)\n",
    "scores_array = np.array(scores)\n",
    "scores_array[inds][:5]"
   ]
  },
  {
   "cell_type": "code",
   "execution_count": 318,
   "metadata": {},
   "outputs": [
    {
     "name": "stdout",
     "output_type": "stream",
     "text": [
      "The original beta_A is -0.05874159142864451.\n",
      "The 1sN approximation to the effect of dropping the worst case 20 points is 0.022714607159334828.\n"
     ]
    }
   ],
   "source": [
    "k = 20\n",
    "print(f'The original beta_A is {betaA_full}.')\n",
    "print(f'The 1sN approximation to the effect of dropping the worst case {k} points is {betaA_full - sum(scores_array[inds[:k]])}.')"
   ]
  },
  {
   "cell_type": "code",
   "execution_count": 316,
   "metadata": {},
   "outputs": [
    {
     "name": "stdout",
     "output_type": "stream",
     "text": [
      "The first 5 scores are [-0.00407281 -0.00407281 -0.00407281 -0.00407281 -0.00407281].\n",
      "The last 5 scores are [0.00431922 0.00431922 0.00431922 0.00431922 0.00431922].\n"
     ]
    }
   ],
   "source": [
    "# Gets all influence scores after index k in ascending order.\n",
    "# These are the scores we'll keep after dropping k most influential points.\n",
    "print(f'The first 5 scores are {scores_array[inds][:5]}.')\n",
    "print(f'The last 5 scores are {scores_array[inds][-5:]}.')\n"
   ]
  },
  {
   "cell_type": "code",
   "execution_count": 319,
   "metadata": {},
   "outputs": [
    {
     "data": {
      "text/plain": [
       "((980, 2), (980,))"
      ]
     },
     "execution_count": 319,
     "metadata": {},
     "output_type": "execute_result"
    }
   ],
   "source": [
    "# get all of the X's and y's that we're keeping.\n",
    "X_new = X[~np.isin(range(len(X)), inds[:k])]\n",
    "y_new = y[~np.isin(range(len(y)), inds[:k])]\n",
    "X_new.shape, y_new.shape"
   ]
  },
  {
   "cell_type": "code",
   "execution_count": 320,
   "metadata": {},
   "outputs": [
    {
     "data": {
      "text/html": [
       "<style>#sk-container-id-33 {color: black;}#sk-container-id-33 pre{padding: 0;}#sk-container-id-33 div.sk-toggleable {background-color: white;}#sk-container-id-33 label.sk-toggleable__label {cursor: pointer;display: block;width: 100%;margin-bottom: 0;padding: 0.3em;box-sizing: border-box;text-align: center;}#sk-container-id-33 label.sk-toggleable__label-arrow:before {content: \"▸\";float: left;margin-right: 0.25em;color: #696969;}#sk-container-id-33 label.sk-toggleable__label-arrow:hover:before {color: black;}#sk-container-id-33 div.sk-estimator:hover label.sk-toggleable__label-arrow:before {color: black;}#sk-container-id-33 div.sk-toggleable__content {max-height: 0;max-width: 0;overflow: hidden;text-align: left;background-color: #f0f8ff;}#sk-container-id-33 div.sk-toggleable__content pre {margin: 0.2em;color: black;border-radius: 0.25em;background-color: #f0f8ff;}#sk-container-id-33 input.sk-toggleable__control:checked~div.sk-toggleable__content {max-height: 200px;max-width: 100%;overflow: auto;}#sk-container-id-33 input.sk-toggleable__control:checked~label.sk-toggleable__label-arrow:before {content: \"▾\";}#sk-container-id-33 div.sk-estimator input.sk-toggleable__control:checked~label.sk-toggleable__label {background-color: #d4ebff;}#sk-container-id-33 div.sk-label input.sk-toggleable__control:checked~label.sk-toggleable__label {background-color: #d4ebff;}#sk-container-id-33 input.sk-hidden--visually {border: 0;clip: rect(1px 1px 1px 1px);clip: rect(1px, 1px, 1px, 1px);height: 1px;margin: -1px;overflow: hidden;padding: 0;position: absolute;width: 1px;}#sk-container-id-33 div.sk-estimator {font-family: monospace;background-color: #f0f8ff;border: 1px dotted black;border-radius: 0.25em;box-sizing: border-box;margin-bottom: 0.5em;}#sk-container-id-33 div.sk-estimator:hover {background-color: #d4ebff;}#sk-container-id-33 div.sk-parallel-item::after {content: \"\";width: 100%;border-bottom: 1px solid gray;flex-grow: 1;}#sk-container-id-33 div.sk-label:hover label.sk-toggleable__label {background-color: #d4ebff;}#sk-container-id-33 div.sk-serial::before {content: \"\";position: absolute;border-left: 1px solid gray;box-sizing: border-box;top: 0;bottom: 0;left: 50%;z-index: 0;}#sk-container-id-33 div.sk-serial {display: flex;flex-direction: column;align-items: center;background-color: white;padding-right: 0.2em;padding-left: 0.2em;position: relative;}#sk-container-id-33 div.sk-item {position: relative;z-index: 1;}#sk-container-id-33 div.sk-parallel {display: flex;align-items: stretch;justify-content: center;background-color: white;position: relative;}#sk-container-id-33 div.sk-item::before, #sk-container-id-33 div.sk-parallel-item::before {content: \"\";position: absolute;border-left: 1px solid gray;box-sizing: border-box;top: 0;bottom: 0;left: 50%;z-index: -1;}#sk-container-id-33 div.sk-parallel-item {display: flex;flex-direction: column;z-index: 1;position: relative;background-color: white;}#sk-container-id-33 div.sk-parallel-item:first-child::after {align-self: flex-end;width: 50%;}#sk-container-id-33 div.sk-parallel-item:last-child::after {align-self: flex-start;width: 50%;}#sk-container-id-33 div.sk-parallel-item:only-child::after {width: 0;}#sk-container-id-33 div.sk-dashed-wrapped {border: 1px dashed gray;margin: 0 0.4em 0.5em 0.4em;box-sizing: border-box;padding-bottom: 0.4em;background-color: white;}#sk-container-id-33 div.sk-label label {font-family: monospace;font-weight: bold;display: inline-block;line-height: 1.2em;}#sk-container-id-33 div.sk-label-container {text-align: center;}#sk-container-id-33 div.sk-container {/* jupyter's `normalize.less` sets `[hidden] { display: none; }` but bootstrap.min.css set `[hidden] { display: none !important; }` so we also need the `!important` here to be able to override the default hidden behavior on the sphinx rendered scikit-learn.org. See: https://github.com/scikit-learn/scikit-learn/issues/21755 */display: inline-block !important;position: relative;}#sk-container-id-33 div.sk-text-repr-fallback {display: none;}</style><div id=\"sk-container-id-33\" class=\"sk-top-container\"><div class=\"sk-text-repr-fallback\"><pre>LogisticRegression(fit_intercept=False, penalty=None)</pre><b>In a Jupyter environment, please rerun this cell to show the HTML representation or trust the notebook. <br />On GitHub, the HTML representation is unable to render, please try loading this page with nbviewer.org.</b></div><div class=\"sk-container\" hidden><div class=\"sk-item\"><div class=\"sk-estimator sk-toggleable\"><input class=\"sk-toggleable__control sk-hidden--visually\" id=\"sk-estimator-id-33\" type=\"checkbox\" checked><label for=\"sk-estimator-id-33\" class=\"sk-toggleable__label sk-toggleable__label-arrow\">LogisticRegression</label><div class=\"sk-toggleable__content\"><pre>LogisticRegression(fit_intercept=False, penalty=None)</pre></div></div></div></div></div>"
      ],
      "text/plain": [
       "LogisticRegression(fit_intercept=False, penalty=None)"
      ]
     },
     "execution_count": 320,
     "metadata": {},
     "output_type": "execute_result"
    }
   ],
   "source": [
    "# refit the logistic regression model.\n",
    "refit_model = lrb.run_logistic_regression(X_new, y_new)\n",
    "refit_model\n"
   ]
  },
  {
   "cell_type": "code",
   "execution_count": 321,
   "metadata": {},
   "outputs": [
    {
     "name": "stdout",
     "output_type": "stream",
     "text": [
      "The refit beta_A is -0.047269450482963486.\n",
      "The refit beta_B is -0.047238119731685325.\n"
     ]
    }
   ],
   "source": [
    "# report coefficients.\n",
    "betaA_refit, betaB_refit = refit_model.coef_[0]\n",
    "print(f'The refit beta_A is {betaA_refit}.')\n",
    "print(f'The refit beta_B is {betaB_refit}.')"
   ]
  },
  {
   "cell_type": "code",
   "execution_count": 322,
   "metadata": {},
   "outputs": [
    {
     "name": "stdout",
     "output_type": "stream",
     "text": [
      "The original beta_A is -0.05874159142864451.\n",
      "After dropping 20 points, the refit of beta_A is -0.047269450482963486.\n"
     ]
    }
   ],
   "source": [
    "print(f'The original beta_A is {betaA_full}.')\n",
    "print(f'After dropping {k} points, the refit of beta_A is {refit_model.coef_[0][0]}.')\n",
    "# interestingly, the refit value is very different from the 1sN approximation\n",
    "# to the refit. wondering if has to do with the BT model setup (the design matrix in particular)."
   ]
  },
  {
   "cell_type": "code",
   "execution_count": 333,
   "metadata": {},
   "outputs": [
    {
     "name": "stdout",
     "output_type": "stream",
     "text": [
      "The refit beta_A is -0.06578016724092314.\n"
     ]
    }
   ],
   "source": [
    "# let's try a larger value of points to drop.\n",
    "k = 100\n",
    "\n",
    "# get all of the X's and y's that we're keeping.\n",
    "X_new = X[~np.isin(range(len(X)), inds[:k])]\n",
    "y_new = y[~np.isin(range(len(y)), inds[:k])]\n",
    "X_new.shape, y_new.shape\n",
    "\n",
    "# refit the logistic regression model.\n",
    "refit_model = lrb.run_logistic_regression(X_new, y_new)\n",
    "refit_model\n",
    "\n",
    "# report coefficients.\n",
    "betaA_refit, betaB_refit = refit_model.coef_[0]\n",
    "print(f'The refit beta_A is {betaA_refit}.')\n",
    "\n",
    "# it seems like the sign of beta_A is very robust to dropping points."
   ]
  },
  {
   "cell_type": "markdown",
   "metadata": {},
   "source": [
    "### Approximately how many games need to be dropped for $\\beta_A > \\beta_B$ to no longer hold?\n",
    "\n",
    "Conclusion: 20 data point (0.5% of the data) can be dropped for this inequality to flip."
   ]
  },
  {
   "cell_type": "code",
   "execution_count": 334,
   "metadata": {},
   "outputs": [
    {
     "data": {
      "text/plain": [
       "[-0.0020009356979932566,\n",
       " -0.002000935697993256,\n",
       " 0.002121994634288316,\n",
       " -0.002000935697993256,\n",
       " 0.0017935272386674073]"
      ]
     },
     "execution_count": 334,
     "metadata": {},
     "output_type": "execute_result"
    }
   ],
   "source": [
    "# how many data points must be dropped to change beta_A - beta_B\n",
    "scores = []\n",
    "# compute the influence scores for all points.\n",
    "for ind in range(1, len(X)):\n",
    "    score_i = compute_approx(pos_p_hats, X, ind, y, \"1sN\", e_AminusB)\n",
    "    scores.append(score_i)\n",
    "scores[:5]"
   ]
  },
  {
   "cell_type": "code",
   "execution_count": 336,
   "metadata": {},
   "outputs": [
    {
     "data": {
      "text/plain": [
       "array([-0.0038587, -0.0038587, -0.0038587, -0.0038587, -0.0038587])"
      ]
     },
     "execution_count": 336,
     "metadata": {},
     "output_type": "execute_result"
    }
   ],
   "source": [
    "# sort indices in ascending order.\n",
    "inds = np.argsort(scores)\n",
    "scores_array = np.array(scores)\n",
    "scores_array[inds][:5]"
   ]
  },
  {
   "cell_type": "code",
   "execution_count": 360,
   "metadata": {},
   "outputs": [
    {
     "name": "stdout",
     "output_type": "stream",
     "text": [
      "The original (beta_A - beta_B) is -0.0173671447616544.\n",
      "After dropping 50 points, the 1sN score estimate of (beta_A - beta_B) is 0.17757277283283607.\n"
     ]
    }
   ],
   "source": [
    "k = 50\n",
    "print(f'The original (beta_A - beta_B) is {betaA_full - betaB_full}.')\n",
    "print(f'After dropping {k} points, the 1sN score estimate of (beta_A - beta_B) is {(betaA_full - betaB_full) + sum(scores_array[inds[k:]])}.')"
   ]
  },
  {
   "cell_type": "markdown",
   "metadata": {},
   "source": [
    "#### Refit with the points dropped."
   ]
  },
  {
   "cell_type": "code",
   "execution_count": 361,
   "metadata": {},
   "outputs": [
    {
     "data": {
      "text/plain": [
       "((950, 2), (950,))"
      ]
     },
     "execution_count": 361,
     "metadata": {},
     "output_type": "execute_result"
    }
   ],
   "source": [
    "# get all of the X's and y's that we're keeping.\n",
    "X_new = X[~np.isin(range(len(X)), inds[:k])]\n",
    "y_new = y[~np.isin(range(len(y)), inds[:k])]\n",
    "X_new.shape, y_new.shape"
   ]
  },
  {
   "cell_type": "code",
   "execution_count": 362,
   "metadata": {},
   "outputs": [
    {
     "data": {
      "text/html": [
       "<style>#sk-container-id-37 {color: black;}#sk-container-id-37 pre{padding: 0;}#sk-container-id-37 div.sk-toggleable {background-color: white;}#sk-container-id-37 label.sk-toggleable__label {cursor: pointer;display: block;width: 100%;margin-bottom: 0;padding: 0.3em;box-sizing: border-box;text-align: center;}#sk-container-id-37 label.sk-toggleable__label-arrow:before {content: \"▸\";float: left;margin-right: 0.25em;color: #696969;}#sk-container-id-37 label.sk-toggleable__label-arrow:hover:before {color: black;}#sk-container-id-37 div.sk-estimator:hover label.sk-toggleable__label-arrow:before {color: black;}#sk-container-id-37 div.sk-toggleable__content {max-height: 0;max-width: 0;overflow: hidden;text-align: left;background-color: #f0f8ff;}#sk-container-id-37 div.sk-toggleable__content pre {margin: 0.2em;color: black;border-radius: 0.25em;background-color: #f0f8ff;}#sk-container-id-37 input.sk-toggleable__control:checked~div.sk-toggleable__content {max-height: 200px;max-width: 100%;overflow: auto;}#sk-container-id-37 input.sk-toggleable__control:checked~label.sk-toggleable__label-arrow:before {content: \"▾\";}#sk-container-id-37 div.sk-estimator input.sk-toggleable__control:checked~label.sk-toggleable__label {background-color: #d4ebff;}#sk-container-id-37 div.sk-label input.sk-toggleable__control:checked~label.sk-toggleable__label {background-color: #d4ebff;}#sk-container-id-37 input.sk-hidden--visually {border: 0;clip: rect(1px 1px 1px 1px);clip: rect(1px, 1px, 1px, 1px);height: 1px;margin: -1px;overflow: hidden;padding: 0;position: absolute;width: 1px;}#sk-container-id-37 div.sk-estimator {font-family: monospace;background-color: #f0f8ff;border: 1px dotted black;border-radius: 0.25em;box-sizing: border-box;margin-bottom: 0.5em;}#sk-container-id-37 div.sk-estimator:hover {background-color: #d4ebff;}#sk-container-id-37 div.sk-parallel-item::after {content: \"\";width: 100%;border-bottom: 1px solid gray;flex-grow: 1;}#sk-container-id-37 div.sk-label:hover label.sk-toggleable__label {background-color: #d4ebff;}#sk-container-id-37 div.sk-serial::before {content: \"\";position: absolute;border-left: 1px solid gray;box-sizing: border-box;top: 0;bottom: 0;left: 50%;z-index: 0;}#sk-container-id-37 div.sk-serial {display: flex;flex-direction: column;align-items: center;background-color: white;padding-right: 0.2em;padding-left: 0.2em;position: relative;}#sk-container-id-37 div.sk-item {position: relative;z-index: 1;}#sk-container-id-37 div.sk-parallel {display: flex;align-items: stretch;justify-content: center;background-color: white;position: relative;}#sk-container-id-37 div.sk-item::before, #sk-container-id-37 div.sk-parallel-item::before {content: \"\";position: absolute;border-left: 1px solid gray;box-sizing: border-box;top: 0;bottom: 0;left: 50%;z-index: -1;}#sk-container-id-37 div.sk-parallel-item {display: flex;flex-direction: column;z-index: 1;position: relative;background-color: white;}#sk-container-id-37 div.sk-parallel-item:first-child::after {align-self: flex-end;width: 50%;}#sk-container-id-37 div.sk-parallel-item:last-child::after {align-self: flex-start;width: 50%;}#sk-container-id-37 div.sk-parallel-item:only-child::after {width: 0;}#sk-container-id-37 div.sk-dashed-wrapped {border: 1px dashed gray;margin: 0 0.4em 0.5em 0.4em;box-sizing: border-box;padding-bottom: 0.4em;background-color: white;}#sk-container-id-37 div.sk-label label {font-family: monospace;font-weight: bold;display: inline-block;line-height: 1.2em;}#sk-container-id-37 div.sk-label-container {text-align: center;}#sk-container-id-37 div.sk-container {/* jupyter's `normalize.less` sets `[hidden] { display: none; }` but bootstrap.min.css set `[hidden] { display: none !important; }` so we also need the `!important` here to be able to override the default hidden behavior on the sphinx rendered scikit-learn.org. See: https://github.com/scikit-learn/scikit-learn/issues/21755 */display: inline-block !important;position: relative;}#sk-container-id-37 div.sk-text-repr-fallback {display: none;}</style><div id=\"sk-container-id-37\" class=\"sk-top-container\"><div class=\"sk-text-repr-fallback\"><pre>LogisticRegression(fit_intercept=False, penalty=None)</pre><b>In a Jupyter environment, please rerun this cell to show the HTML representation or trust the notebook. <br />On GitHub, the HTML representation is unable to render, please try loading this page with nbviewer.org.</b></div><div class=\"sk-container\" hidden><div class=\"sk-item\"><div class=\"sk-estimator sk-toggleable\"><input class=\"sk-toggleable__control sk-hidden--visually\" id=\"sk-estimator-id-37\" type=\"checkbox\" checked><label for=\"sk-estimator-id-37\" class=\"sk-toggleable__label sk-toggleable__label-arrow\">LogisticRegression</label><div class=\"sk-toggleable__content\"><pre>LogisticRegression(fit_intercept=False, penalty=None)</pre></div></div></div></div></div>"
      ],
      "text/plain": [
       "LogisticRegression(fit_intercept=False, penalty=None)"
      ]
     },
     "execution_count": 362,
     "metadata": {},
     "output_type": "execute_result"
    }
   ],
   "source": [
    "\n",
    "# refit the logistic regression model.\n",
    "refit_model = lrb.run_logistic_regression(X_new, y_new)\n",
    "refit_model"
   ]
  },
  {
   "cell_type": "code",
   "execution_count": 363,
   "metadata": {},
   "outputs": [
    {
     "data": {
      "text/plain": [
       "array([-0.05138733, -0.06542491])"
      ]
     },
     "execution_count": 363,
     "metadata": {},
     "output_type": "execute_result"
    }
   ],
   "source": [
    "refit_model.coef_[0]"
   ]
  },
  {
   "cell_type": "code",
   "execution_count": 364,
   "metadata": {},
   "outputs": [],
   "source": [
    "# report coefficients.\n",
    "betaA_refit, betaB_refit = refit_model.coef_[0]\n"
   ]
  },
  {
   "cell_type": "code",
   "execution_count": 365,
   "metadata": {},
   "outputs": [
    {
     "name": "stdout",
     "output_type": "stream",
     "text": [
      "The original (beta_A - beta_B) is -0.0173671447616544.\n",
      "After dropping 50 points, the refit of (beta_A - beta_B) is 0.014037582359692935.\n"
     ]
    }
   ],
   "source": [
    "print(f'The original (beta_A - beta_B) is {betaA_full - betaB_full}.')\n",
    "print(f'After dropping {k} points, the refit of (beta_A - beta_B) is {refit_model.coef_[0][0] - refit_model.coef_[0][1]}.')"
   ]
  },
  {
   "cell_type": "code",
   "execution_count": null,
   "metadata": {},
   "outputs": [],
   "source": []
  },
  {
   "cell_type": "code",
   "execution_count": null,
   "metadata": {},
   "outputs": [],
   "source": []
  },
  {
   "cell_type": "code",
   "execution_count": null,
   "metadata": {},
   "outputs": [],
   "source": []
  }
 ],
 "metadata": {
  "kernelspec": {
   "display_name": "isRankingRobustLocal",
   "language": "python",
   "name": "python3"
  },
  "language_info": {
   "codemirror_mode": {
    "name": "ipython",
    "version": 3
   },
   "file_extension": ".py",
   "mimetype": "text/x-python",
   "name": "python",
   "nbconvert_exporter": "python",
   "pygments_lexer": "ipython3",
   "version": "3.8.2"
  }
 },
 "nbformat": 4,
 "nbformat_minor": 2
}
