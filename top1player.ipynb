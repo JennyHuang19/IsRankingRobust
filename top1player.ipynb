{
 "cells": [
  {
   "cell_type": "code",
   "execution_count": 2,
   "metadata": {},
   "outputs": [],
   "source": [
    "import numpy as np\n",
    "import pandas as pd\n",
    "import building_blocks as lrb\n",
    "from sklearn.linear_model import LogisticRegression\n",
    "from sklearn.metrics import log_loss\n",
    "import matplotlib.pyplot as plt"
   ]
  },
  {
   "cell_type": "markdown",
   "metadata": {},
   "source": [
    "# Let's start by looking at an example with 3 teams."
   ]
  },
  {
   "cell_type": "code",
   "execution_count": 3,
   "metadata": {},
   "outputs": [],
   "source": [
    "# Set seed for reproducibility\n",
    "np.random.seed(42)\n",
    "\n",
    "# --- Step 1: Define teams and latent strengths ---\n",
    "teams = ['A', 'B', 'C']\n",
    "team_ids = {name: i for i, name in enumerate(teams)}\n",
    "true_betas = np.array([0.0, 0.05, -0.05])  # beta_A=0, beta_B=0.05, beta_C=-0.05\n"
   ]
  },
  {
   "cell_type": "code",
   "execution_count": 4,
   "metadata": {},
   "outputs": [],
   "source": [
    "# --- Step 2: Simulate 20 random matchups ---\n",
    "n_games = 20\n",
    "matchups = []\n",
    "\n",
    "for _ in range(n_games):\n",
    "    i, j = np.random.choice(3, size=2, replace=False) # randomly choose 2 teams to compete.\n",
    "    beta_diff = true_betas[i] - true_betas[j]\n",
    "    prob_win_i = 1 / (1 + np.exp(-beta_diff))\n",
    "    winner = i if np.random.rand() < prob_win_i else j\n",
    "    matchups.append((i, j, winner))"
   ]
  },
  {
   "cell_type": "code",
   "execution_count": 6,
   "metadata": {},
   "outputs": [],
   "source": [
    "# --- Step 3: Create design matrix and outcome vector ---\n",
    "X = np.zeros((n_games, 2))  # We fix beta_0 = 0 and estimate beta_1 and beta_2.\n",
    "y = np.zeros(n_games)\n",
    "\n",
    "for idx, (i, j, winner) in enumerate(matchups):\n",
    "    # Map to reduced index space (beta_0 = 0)\n",
    "    def reduced(k): return k - 1 if k > 0 else None\n",
    "    \n",
    "    if winner == i:\n",
    "        y[idx] = 1\n",
    "        if reduced(i) is not None:\n",
    "            X[idx, reduced(i)] += 1\n",
    "        if reduced(j) is not None:\n",
    "            X[idx, reduced(j)] -= 1\n",
    "    else:\n",
    "        y[idx] = 0\n",
    "        if reduced(j) is not None:\n",
    "            X[idx, reduced(j)] += 1\n",
    "        if reduced(i) is not None:\n",
    "            X[idx, reduced(i)] -= 1"
   ]
  },
  {
   "cell_type": "code",
   "execution_count": 7,
   "metadata": {},
   "outputs": [
    {
     "name": "stdout",
     "output_type": "stream",
     "text": [
      "Match Outcomes:\n",
      "   team_i team_j winner\n",
      "0       A      B      B\n",
      "1       A      B      B\n",
      "2       A      B      A\n",
      "3       B      A      A\n",
      "4       A      B      A\n",
      "5       A      C      A\n",
      "6       B      C      B\n",
      "7       C      A      C\n",
      "8       B      C      C\n",
      "9       A      C      A\n",
      "10      A      B      A\n",
      "11      C      A      C\n",
      "12      B      C      C\n",
      "13      B      A      B\n",
      "14      A      C      C\n",
      "15      A      C      A\n",
      "16      C      A      C\n",
      "17      A      B      A\n",
      "18      C      B      C\n",
      "19      C      A      C\n",
      "\n",
      "Design Matrix X:\n",
      "[[ 1.  0.]\n",
      " [ 1.  0.]\n",
      " [-1.  0.]\n",
      " [-1.  0.]\n",
      " [-1.  0.]\n",
      " [ 0. -1.]\n",
      " [ 1. -1.]\n",
      " [ 0.  1.]\n",
      " [-1.  1.]\n",
      " [ 0. -1.]\n",
      " [-1.  0.]\n",
      " [ 0.  1.]\n",
      " [-1.  1.]\n",
      " [ 1.  0.]\n",
      " [ 0.  1.]\n",
      " [ 0. -1.]\n",
      " [ 0.  1.]\n",
      " [-1.  0.]\n",
      " [-1.  1.]\n",
      " [ 0.  1.]]\n",
      "\n",
      "Outcome Vector y:\n",
      "[0. 0. 1. 0. 1. 1. 1. 1. 0. 1. 1. 1. 0. 1. 0. 1. 1. 1. 1. 1.]\n"
     ]
    }
   ],
   "source": [
    "# --- Step 4: Display the data ---\n",
    "match_df = pd.DataFrame(matchups, columns=[\"team_i\", \"team_j\", \"winner\"])\n",
    "match_df[\"team_i\"] = match_df[\"team_i\"].map({v: k for k, v in team_ids.items()})\n",
    "match_df[\"team_j\"] = match_df[\"team_j\"].map({v: k for k, v in team_ids.items()})\n",
    "match_df[\"winner\"] = match_df[\"winner\"].map({v: k for k, v in team_ids.items()})\n",
    "print(\"Match Outcomes:\")\n",
    "print(match_df)\n",
    "\n",
    "print(\"\\nDesign Matrix X:\")\n",
    "print(X)\n",
    "\n",
    "print(\"\\nOutcome Vector y:\")\n",
    "print(y)"
   ]
  },
  {
   "cell_type": "markdown",
   "metadata": {},
   "source": [
    "## Now, let's see if these rankings are robust to dropping just a little data."
   ]
  },
  {
   "cell_type": "markdown",
   "metadata": {},
   "source": [
    "### Fit a logistic regression model to the full data."
   ]
  },
  {
   "cell_type": "code",
   "execution_count": 8,
   "metadata": {},
   "outputs": [
    {
     "data": {
      "text/html": [
       "<style>#sk-container-id-1 {color: black;}#sk-container-id-1 pre{padding: 0;}#sk-container-id-1 div.sk-toggleable {background-color: white;}#sk-container-id-1 label.sk-toggleable__label {cursor: pointer;display: block;width: 100%;margin-bottom: 0;padding: 0.3em;box-sizing: border-box;text-align: center;}#sk-container-id-1 label.sk-toggleable__label-arrow:before {content: \"▸\";float: left;margin-right: 0.25em;color: #696969;}#sk-container-id-1 label.sk-toggleable__label-arrow:hover:before {color: black;}#sk-container-id-1 div.sk-estimator:hover label.sk-toggleable__label-arrow:before {color: black;}#sk-container-id-1 div.sk-toggleable__content {max-height: 0;max-width: 0;overflow: hidden;text-align: left;background-color: #f0f8ff;}#sk-container-id-1 div.sk-toggleable__content pre {margin: 0.2em;color: black;border-radius: 0.25em;background-color: #f0f8ff;}#sk-container-id-1 input.sk-toggleable__control:checked~div.sk-toggleable__content {max-height: 200px;max-width: 100%;overflow: auto;}#sk-container-id-1 input.sk-toggleable__control:checked~label.sk-toggleable__label-arrow:before {content: \"▾\";}#sk-container-id-1 div.sk-estimator input.sk-toggleable__control:checked~label.sk-toggleable__label {background-color: #d4ebff;}#sk-container-id-1 div.sk-label input.sk-toggleable__control:checked~label.sk-toggleable__label {background-color: #d4ebff;}#sk-container-id-1 input.sk-hidden--visually {border: 0;clip: rect(1px 1px 1px 1px);clip: rect(1px, 1px, 1px, 1px);height: 1px;margin: -1px;overflow: hidden;padding: 0;position: absolute;width: 1px;}#sk-container-id-1 div.sk-estimator {font-family: monospace;background-color: #f0f8ff;border: 1px dotted black;border-radius: 0.25em;box-sizing: border-box;margin-bottom: 0.5em;}#sk-container-id-1 div.sk-estimator:hover {background-color: #d4ebff;}#sk-container-id-1 div.sk-parallel-item::after {content: \"\";width: 100%;border-bottom: 1px solid gray;flex-grow: 1;}#sk-container-id-1 div.sk-label:hover label.sk-toggleable__label {background-color: #d4ebff;}#sk-container-id-1 div.sk-serial::before {content: \"\";position: absolute;border-left: 1px solid gray;box-sizing: border-box;top: 0;bottom: 0;left: 50%;z-index: 0;}#sk-container-id-1 div.sk-serial {display: flex;flex-direction: column;align-items: center;background-color: white;padding-right: 0.2em;padding-left: 0.2em;position: relative;}#sk-container-id-1 div.sk-item {position: relative;z-index: 1;}#sk-container-id-1 div.sk-parallel {display: flex;align-items: stretch;justify-content: center;background-color: white;position: relative;}#sk-container-id-1 div.sk-item::before, #sk-container-id-1 div.sk-parallel-item::before {content: \"\";position: absolute;border-left: 1px solid gray;box-sizing: border-box;top: 0;bottom: 0;left: 50%;z-index: -1;}#sk-container-id-1 div.sk-parallel-item {display: flex;flex-direction: column;z-index: 1;position: relative;background-color: white;}#sk-container-id-1 div.sk-parallel-item:first-child::after {align-self: flex-end;width: 50%;}#sk-container-id-1 div.sk-parallel-item:last-child::after {align-self: flex-start;width: 50%;}#sk-container-id-1 div.sk-parallel-item:only-child::after {width: 0;}#sk-container-id-1 div.sk-dashed-wrapped {border: 1px dashed gray;margin: 0 0.4em 0.5em 0.4em;box-sizing: border-box;padding-bottom: 0.4em;background-color: white;}#sk-container-id-1 div.sk-label label {font-family: monospace;font-weight: bold;display: inline-block;line-height: 1.2em;}#sk-container-id-1 div.sk-label-container {text-align: center;}#sk-container-id-1 div.sk-container {/* jupyter's `normalize.less` sets `[hidden] { display: none; }` but bootstrap.min.css set `[hidden] { display: none !important; }` so we also need the `!important` here to be able to override the default hidden behavior on the sphinx rendered scikit-learn.org. See: https://github.com/scikit-learn/scikit-learn/issues/21755 */display: inline-block !important;position: relative;}#sk-container-id-1 div.sk-text-repr-fallback {display: none;}</style><div id=\"sk-container-id-1\" class=\"sk-top-container\"><div class=\"sk-text-repr-fallback\"><pre>LogisticRegression(fit_intercept=False, penalty=None)</pre><b>In a Jupyter environment, please rerun this cell to show the HTML representation or trust the notebook. <br />On GitHub, the HTML representation is unable to render, please try loading this page with nbviewer.org.</b></div><div class=\"sk-container\" hidden><div class=\"sk-item\"><div class=\"sk-estimator sk-toggleable\"><input class=\"sk-toggleable__control sk-hidden--visually\" id=\"sk-estimator-id-1\" type=\"checkbox\" checked><label for=\"sk-estimator-id-1\" class=\"sk-toggleable__label sk-toggleable__label-arrow\">LogisticRegression</label><div class=\"sk-toggleable__content\"><pre>LogisticRegression(fit_intercept=False, penalty=None)</pre></div></div></div></div></div>"
      ],
      "text/plain": [
       "LogisticRegression(fit_intercept=False, penalty=None)"
      ]
     },
     "execution_count": 8,
     "metadata": {},
     "output_type": "execute_result"
    }
   ],
   "source": [
    "full_model = lrb.run_logistic_regression(X, y)\n",
    "full_model"
   ]
  },
  {
   "cell_type": "code",
   "execution_count": 9,
   "metadata": {},
   "outputs": [
    {
     "data": {
      "text/plain": [
       "array([0.37499992, 0.37499992, 0.62500008, 0.62500008, 0.62500008,\n",
       "       0.62500008, 0.5       , 0.37499992, 0.5       , 0.62500008,\n",
       "       0.62500008, 0.37499992, 0.5       , 0.37499992, 0.37499992,\n",
       "       0.62500008, 0.37499992, 0.62500008, 0.5       , 0.37499992])"
      ]
     },
     "execution_count": 9,
     "metadata": {},
     "output_type": "execute_result"
    }
   ],
   "source": [
    "pos_p_hats = full_model.predict_proba(X)[:, 1]\n",
    "pos_p_hats"
   ]
  },
  {
   "cell_type": "code",
   "execution_count": 10,
   "metadata": {},
   "outputs": [
    {
     "data": {
      "text/plain": [
       "(1, 2)"
      ]
     },
     "execution_count": 10,
     "metadata": {},
     "output_type": "execute_result"
    }
   ],
   "source": [
    "e_A = np.array([1, 0]).reshape(1, 2) # for beta_A > 0\n",
    "e_A.shape\n",
    "e_AminusB = np.array([1, -1]).reshape(1, 2) # for beta_A > beta_B\n",
    "e_AminusB.shape"
   ]
  },
  {
   "cell_type": "code",
   "execution_count": 16,
   "metadata": {},
   "outputs": [
    {
     "data": {
      "text/plain": [
       "array([[-0.14838708, -0.0516129 ],\n",
       "       [-0.0516129 , -0.14838708]])"
      ]
     },
     "execution_count": 16,
     "metadata": {},
     "output_type": "execute_result"
    }
   ],
   "source": [
    "index = 1\n",
    "v_lst = pos_p_hats * (1 - pos_p_hats)\n",
    "V = np.diag(v_lst)\n",
    "# a vector of size num dimension (e.g., num teams - 1)\n",
    "np.linalg.inv(X.T @ V @ X) @ X[index] * (y[index] - pos_p_hats[index])"
   ]
  },
  {
   "cell_type": "markdown",
   "metadata": {},
   "source": [
    "### Approximately how many points need to be dropped for $\\beta_A > 0$ to no longer hold?"
   ]
  },
  {
   "cell_type": "code",
   "execution_count": 11,
   "metadata": {},
   "outputs": [
    {
     "data": {
      "text/plain": [
       "[-0.16355553214578855,\n",
       " -0.1635555321457885,\n",
       " 0.2725926461687005,\n",
       " -0.1635555321457885,\n",
       " -0.056888883896953325,\n",
       " 0.1481481551373098,\n",
       " 0.09481483870097142,\n",
       " 0.1481481551373098,\n",
       " -0.056888883896953325,\n",
       " -0.1635555321457885,\n",
       " 0.09481483870097142,\n",
       " 0.1481481551373098,\n",
       " 0.2725926461687005,\n",
       " -0.056888883896953325,\n",
       " -0.056888883896953325,\n",
       " 0.09481483870097142,\n",
       " -0.1635555321457885,\n",
       " -0.1481481551373098,\n",
       " 0.09481483870097142]"
      ]
     },
     "execution_count": 11,
     "metadata": {},
     "output_type": "execute_result"
    }
   ],
   "source": [
    "# how many data points must be dropped to change beta_A.\n",
    "scores = []\n",
    "# compute the influence scores for all points.\n",
    "for ind in range(1, len(X)):\n",
    "    score_i = lrb.compute_approx(pos_p_hats, X, ind, y, \"1sN\")\n",
    "    scores.append(score_i)\n",
    "scores"
   ]
  },
  {
   "cell_type": "code",
   "execution_count": 12,
   "metadata": {},
   "outputs": [
    {
     "name": "stdout",
     "output_type": "stream",
     "text": [
      "the games with the most negative scores are: [14  6 10 15 18  5  7 11 12  2]\n"
     ]
    }
   ],
   "source": [
    "# sort indices in ascending order.\n",
    "inds = np.argsort(scores)\n",
    "# MIS. identify the points with the most negative (direction chosen arbitrarily) scores.\n",
    "print(f'the games with the most negative scores are: {inds[-10:]}')"
   ]
  },
  {
   "cell_type": "code",
   "execution_count": 13,
   "metadata": {},
   "outputs": [
    {
     "data": {
      "text/plain": [
       "array([-0.16355553, -0.16355553, -0.16355553, -0.16355553, -0.16355553,\n",
       "       -0.14814816, -0.05688888, -0.05688888, -0.05688888, -0.05688888,\n",
       "        0.09481484,  0.09481484,  0.09481484,  0.09481484,  0.14814816,\n",
       "        0.14814816,  0.14814816,  0.27259265,  0.27259265])"
      ]
     },
     "execution_count": 13,
     "metadata": {},
     "output_type": "execute_result"
    }
   ],
   "source": [
    "scores_array = np.array(scores)\n",
    "scores_array[inds]"
   ]
  },
  {
   "cell_type": "markdown",
   "metadata": {},
   "source": [
    "### Approximately how many points need to be dropped for $\\beta_A > \\beta_B$ to no longer hold?"
   ]
  },
  {
   "cell_type": "code",
   "execution_count": null,
   "metadata": {},
   "outputs": [],
   "source": []
  },
  {
   "cell_type": "markdown",
   "metadata": {},
   "source": [
    "### Helpers.. (for now)."
   ]
  },
  {
   "cell_type": "code",
   "execution_count": 31,
   "metadata": {},
   "outputs": [],
   "source": [
    "def compute_leverage(\n",
    "    pos_p_hats: np.ndarray,\n",
    "    X: np.ndarray,\n",
    "    index: int,\n",
    "    y: np.ndarray,\n",
    ") -> float:\n",
    "    \"\"\"\n",
    "    pos_p_hats: np.array, shape (n,), the predicted probabilities.\n",
    "    X: np.array, shape (n, p), the design matrix.\n",
    "    index: int, the index of the data point whose influence we want to compute.\n",
    "    y: np.array, shape (n,), the response variable.\n",
    "\n",
    "    Compute the leverage of the index-th data point.\n",
    "    \"\"\"\n",
    "    v_lst = pos_p_hats * (1 - pos_p_hats)\n",
    "    V = np.diag(v_lst)\n",
    "    H = V @ X @ np.linalg.inv(X.T @ V @ X) @ X.T\n",
    "    return H[index, index]\n",
    "\n",
    "def compute_approx(\n",
    "    pos_p_hats: np.ndarray,\n",
    "    X: np.ndarray,\n",
    "    index: int,\n",
    "    y: np.ndarray,\n",
    "    method: str,\n",
    "    e: np.ndarray,\n",
    ") -> float:\n",
    "    \"\"\"\n",
    "    pos_p_hats: np.array, shape (n,), the predicted probabilities.\n",
    "    X: np.array, shape (n, p), the design matrix.\n",
    "    index: int, the index of the data point whose influence we want to compute.\n",
    "    y: np.array, shape (n,), the response variable.\n",
    "    method: str, the method to use to compute the approximation (\"1sN\" or \"IF\").\n",
    "    e: np.ndarray, shape (p,), the direction of the influence function.\n",
    "\n",
    "    Compute the influence function approximation of\n",
    "    the effect of infinitesimally upweighting the index-th\n",
    "    data point on a quantity of interest \n",
    "    (e.g., some linear combination of the \n",
    "    logistic regression coefficients,\n",
    "    determined by the choice of e).\n",
    "    \"\"\"\n",
    "    v_lst = pos_p_hats * (1 - pos_p_hats)\n",
    "    V = np.diag(v_lst)\n",
    "    if method == \"IF\":\n",
    "        influence_function = (\n",
    "            e @ np.linalg.inv(X.T @ V @ X) @ X[index] * (y[index] - pos_p_hats[index])\n",
    "        )\n",
    "        return influence_function[0]\n",
    "    elif method == \"1sN\":\n",
    "        influence_function = (\n",
    "            e @ np.linalg.inv(X.T @ V @ X) @ X[index] * (y[index] - pos_p_hats[index])\n",
    "        )\n",
    "        h_ii = compute_leverage(pos_p_hats, X, index, y)\n",
    "        return 1 / (1 - h_ii) * influence_function[0]\n",
    "    else:\n",
    "        return \"Invalid method.\""
   ]
  }
 ],
 "metadata": {
  "kernelspec": {
   "display_name": "isRankingRobust",
   "language": "python",
   "name": "python3"
  },
  "language_info": {
   "codemirror_mode": {
    "name": "ipython",
    "version": 3
   },
   "file_extension": ".py",
   "mimetype": "text/x-python",
   "name": "python",
   "nbconvert_exporter": "python",
   "pygments_lexer": "ipython3",
   "version": "3.8.10"
  }
 },
 "nbformat": 4,
 "nbformat_minor": 2
}
