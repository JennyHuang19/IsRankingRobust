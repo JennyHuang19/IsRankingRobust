{
 "cells": [
  {
   "cell_type": "code",
   "execution_count": 89,
   "metadata": {},
   "outputs": [],
   "source": [
    "import numpy as np\n",
    "import pandas as pd\n",
    "from sklearn.linear_model import LogisticRegression\n",
    "import matplotlib.pyplot as plt\n",
    "from package.RankAMIP.logistic import run_logistic_regression\n",
    "from package.RankAMIP.data_script import make_BT_design_matrix\n",
    "from package.RankAMIP.logistic import LogisticAMIP\n",
    "from package.RankAMIP.logistic import find_closest_matchups\n",
    "from package.RankAMIP.logistic import isRankingRobust\n",
    "from package.RankAMIP.data_script import *"
   ]
  },
  {
   "cell_type": "markdown",
   "metadata": {},
   "source": [
    "### How Robust is the Multi-turn Benchmark to Data-Dropping?\n",
    "\n",
    "The MT-Bench (Multi-Turn Benchmark) is a curated set of 80 multi-turn dialogue prompts designed to evaluate the conversational and instruction-following capabilities of large language models (LLMs). Each prompt simulates realistic, multi-turn interactions that test a model's ability to maintain context, reason logically, and provide coherent responses across various domains, including general knowledge, reasoning, programming, and open-ended tasks."
   ]
  },
  {
   "cell_type": "markdown",
   "metadata": {},
   "source": [
    "### Load Data"
   ]
  },
  {
   "cell_type": "code",
   "execution_count": 130,
   "metadata": {},
   "outputs": [],
   "source": [
    "# Import datasets from \n",
    "# https://huggingface.co/datasets/lmsys/mt_bench_human_judgments\n",
    "from datasets import load_dataset\n",
    "ds = load_dataset(\"lmsys/mt_bench_human_judgments\")"
   ]
  },
  {
   "cell_type": "code",
   "execution_count": null,
   "metadata": {},
   "outputs": [
    {
     "name": "stdout",
     "output_type": "stream",
     "text": [
      "DatasetDict({\n",
      "    gpt4_pair: Dataset({\n",
      "        features: ['question_id', 'model_a', 'model_b', 'winner', 'judge', 'conversation_a', 'conversation_b', 'turn'],\n",
      "        num_rows: 2400\n",
      "    })\n",
      "    human: Dataset({\n",
      "        features: ['question_id', 'model_a', 'model_b', 'winner', 'judge', 'conversation_a', 'conversation_b', 'turn'],\n",
      "        num_rows: 3355\n",
      "    })\n",
      "})\n",
      "{'question_id': 81, 'model_a': 'alpaca-13b', 'model_b': 'claude-v1', 'winner': 'model_b', 'judge': 'gpt4_pair', 'conversation_a': [{'content': 'Compose an engaging travel blog post about a recent trip to Hawaii, highlighting cultural experiences and must-see attractions.', 'role': 'user'}, {'content': 'I recently had the pleasure of visiting Hawaii and it quickly became one of my favorite places. From the stunning beaches to the lush mountains, this place has it all. The people are incredibly friendly and the culture is alive and well. One of the highlights of my trip was visiting the Polynesian Cultural Center. Here, I was able to learn about the culture of the native Hawaiian people and try my hand at traditional crafts and activities. I also had a chance to explore some of the natural wonders of the island, including the breathtaking Hanauma Bay and the majestic Waimea Canyon. Whether you’re looking for a relaxing beach vacation or an adventure filled with culture and nature, Hawaii is the perfect destination.', 'role': 'assistant'}, {'content': 'Rewrite your previous response. Start every sentence with the letter A.', 'role': 'user'}, {'content': 'Aloha! I recently had the pleasure of visiting Hawaii and it quickly became one of my favorite places. From the stunning beaches to the lush mountains, this place has it all. The people are incredibly friendly and the culture is alive and well. One of the highlights of my trip was visiting the Polynesian Cultural Center. Here, I was able to learn about the culture of the native Hawaiian people and try my hand at traditional crafts and activities. I also had a chance to explore some of the natural wonders of the island, including the breathtaking Hanauma Bay and the majestic Waimea Canyon. Whether you’re looking for a relaxing beach vacation or an adventure filled with culture and nature, Hawaii is the perfect destination.', 'role': 'assistant'}], 'conversation_b': [{'content': 'Compose an engaging travel blog post about a recent trip to Hawaii, highlighting cultural experiences and must-see attractions.', 'role': 'user'}, {'content': \"Here is a draft travel blog post about a recent trip to Hawaii:\\n\\nAloha from the Hawaiian Islands! I recently had the opportunity to spend 10 days exploring the beautiful Hawaiian archipelago, soaking in the culture, natural scenery, and must-see attractions. Here are some of the highlights from my Hawaiian adventure:\\n\\nExperience Traditional Hawaiian Culture on Oahu\\n\\nNo trip to Hawaii is complete without learning about the rich traditional Hawaiian culture. On Oahu, I visited the Polynesian Cultural Center, where I learned to hula dance, watched dramatic fire knife dancing performances, and took a canoe ride along a tropical river. I also toured ‘Iolani Palace, the only official royal residence in the U.S. and a National Historic Landmark. The palace provides insight into Hawaii's monarchy era in the late 19th century.\\n\\nMarvel at Massive Volcanoes on the Big Island \\n\\nThe Big Island of Hawaii is a geologic wonderland, home to massive active volcanoes. I toured Hawaii Volcanoes National Park, where I hiked to the rim of the Kilauea caldera and saw the dramatic cliffs and craters of this active volcano. At night, the glow from the caldera illuminated the sky. I also visited massive Mauna Kea, a dormant volcano, where stargazing at the summit visitor center is spectacular due to the clear, high-altitude air. \\n\\nRelax on Pristine Beaches on Maui\\n\\nThe Hawaiian islands are home to some of the most stunning beaches in the world, and Maui has a beach for every taste. I enjoyed the black sand beaches and massive sea cliffs of Waianapanapa State Park. For a quintessential Hawaiian beach scene, head to Makena Beach, also known as “Big Beach.” The wide golden sand beach is flanked by swaying palm trees and the turquoise waters of the Pacific. For a quieter beach, check out the red sand beach at Kaihalulu. The dramatic cliffs and sand provide a perfect backdrop for a peaceful beach day.\\n\\nThere's so much natural beauty, culture, adventure, and relaxation to experience in Hawaii. I can't wait to return to the islands again! Aloha and mahalo!\", 'role': 'assistant'}, {'content': 'Rewrite your previous response. Start every sentence with the letter A.', 'role': 'user'}, {'content': \"Here is the travel blog post rewritten with every sentence starting with A:\\n\\nAloha from the Hawaiian Islands!  A week exploring the archipelago afforded ample opportunities to absorb the alluring culture, astonishing attractions, and azure beaches.\\n\\nA visit to Oahu acquainted me with the ancient Hawaiian culture. At the Polynesian Cultural Center, I attempted hula dancing, awed at the agile fire knife dancing, and ambled along a tropical river by canoe. Additionally, I toured ‘Iolani Palace, America’s only actual royal residence, a National Historic Landmark. The palace provides awareness into Hawaii's antiquated monarchy era.  \\n\\nThe Big Island’s active volcanoes amazed. At Hawaii Volcanoes National Park, I ambled to Kilauea caldera’s rim and admired the dramatic cliffs and craters of this active volcano. At night, an auroral glow from the caldera illuminated the atmosphere. Also, I visited massive Mauna Kea, a dormant volcano, where astounding stargazing at the summit visitor center is achievable due to the clear, aerial air.\\n\\nMaui’s beaches are attractive and assorted. Black sand beaches and massive sea cliffs at Waianapanapa State Park are appealing. For an archetypal Hawaiian beach, go to Makena Beach, aka “Big Beach,” where a wide golden sand beach is abutted by swaying palm trees and the aqua Pacific. For quiet, check out Kaihalulu's red sand beach; dramatic cliffs and sand afford an ideal backdrop to unwind.  \\n\\nAbundant natural beauty, culture, adventure, and relaxation abide in Hawaii. Aloha and mahalo! I anticipate returning again!\", 'role': 'assistant'}], 'turn': 1}\n"
     ]
    }
   ],
   "source": [
    "# inspect the available splits\n",
    "print(ds)  \n",
    "# MT-bench has both human and a gpt4-judge data.\n",
    "gpt4_pair = ds[\"gpt4_pair\"] \n",
    "human = ds[\"human\"] \n",
    "# look at the first example\n",
    "print(gpt4_pair[0])"
   ]
  },
  {
   "cell_type": "code",
   "execution_count": 132,
   "metadata": {},
   "outputs": [
    {
     "data": {
      "text/plain": [
       "(3355, 8)"
      ]
     },
     "execution_count": 132,
     "metadata": {},
     "output_type": "execute_result"
    }
   ],
   "source": [
    "df = human.to_pandas()\n",
    "df.shape"
   ]
  },
  {
   "cell_type": "code",
   "execution_count": 133,
   "metadata": {},
   "outputs": [
    {
     "data": {
      "text/html": [
       "<div>\n",
       "<style scoped>\n",
       "    .dataframe tbody tr th:only-of-type {\n",
       "        vertical-align: middle;\n",
       "    }\n",
       "\n",
       "    .dataframe tbody tr th {\n",
       "        vertical-align: top;\n",
       "    }\n",
       "\n",
       "    .dataframe thead th {\n",
       "        text-align: right;\n",
       "    }\n",
       "</style>\n",
       "<table border=\"1\" class=\"dataframe\">\n",
       "  <thead>\n",
       "    <tr style=\"text-align: right;\">\n",
       "      <th></th>\n",
       "      <th>question_id</th>\n",
       "      <th>model_a</th>\n",
       "      <th>model_b</th>\n",
       "      <th>winner</th>\n",
       "      <th>judge</th>\n",
       "      <th>conversation_a</th>\n",
       "      <th>conversation_b</th>\n",
       "      <th>turn</th>\n",
       "      <th>winner_model_a</th>\n",
       "      <th>winner_tie</th>\n",
       "    </tr>\n",
       "  </thead>\n",
       "  <tbody>\n",
       "    <tr>\n",
       "      <th>0</th>\n",
       "      <td>81</td>\n",
       "      <td>alpaca-13b</td>\n",
       "      <td>gpt-3.5-turbo</td>\n",
       "      <td>model_b</td>\n",
       "      <td>author_2</td>\n",
       "      <td>[{'content': 'Compose an engaging travel blog ...</td>\n",
       "      <td>[{'content': 'Compose an engaging travel blog ...</td>\n",
       "      <td>1</td>\n",
       "      <td>0</td>\n",
       "      <td>0</td>\n",
       "    </tr>\n",
       "    <tr>\n",
       "      <th>1</th>\n",
       "      <td>81</td>\n",
       "      <td>alpaca-13b</td>\n",
       "      <td>gpt-3.5-turbo</td>\n",
       "      <td>model_b</td>\n",
       "      <td>author_2</td>\n",
       "      <td>[{'content': 'Compose an engaging travel blog ...</td>\n",
       "      <td>[{'content': 'Compose an engaging travel blog ...</td>\n",
       "      <td>2</td>\n",
       "      <td>0</td>\n",
       "      <td>0</td>\n",
       "    </tr>\n",
       "    <tr>\n",
       "      <th>2</th>\n",
       "      <td>81</td>\n",
       "      <td>alpaca-13b</td>\n",
       "      <td>gpt-3.5-turbo</td>\n",
       "      <td>model_b</td>\n",
       "      <td>expert_17</td>\n",
       "      <td>[{'content': 'Compose an engaging travel blog ...</td>\n",
       "      <td>[{'content': 'Compose an engaging travel blog ...</td>\n",
       "      <td>1</td>\n",
       "      <td>0</td>\n",
       "      <td>0</td>\n",
       "    </tr>\n",
       "    <tr>\n",
       "      <th>3</th>\n",
       "      <td>81</td>\n",
       "      <td>alpaca-13b</td>\n",
       "      <td>gpt-3.5-turbo</td>\n",
       "      <td>model_b</td>\n",
       "      <td>expert_17</td>\n",
       "      <td>[{'content': 'Compose an engaging travel blog ...</td>\n",
       "      <td>[{'content': 'Compose an engaging travel blog ...</td>\n",
       "      <td>2</td>\n",
       "      <td>0</td>\n",
       "      <td>0</td>\n",
       "    </tr>\n",
       "    <tr>\n",
       "      <th>4</th>\n",
       "      <td>81</td>\n",
       "      <td>alpaca-13b</td>\n",
       "      <td>vicuna-13b-v1.2</td>\n",
       "      <td>model_b</td>\n",
       "      <td>expert_0</td>\n",
       "      <td>[{'content': 'Compose an engaging travel blog ...</td>\n",
       "      <td>[{'content': 'Compose an engaging travel blog ...</td>\n",
       "      <td>1</td>\n",
       "      <td>0</td>\n",
       "      <td>0</td>\n",
       "    </tr>\n",
       "  </tbody>\n",
       "</table>\n",
       "</div>"
      ],
      "text/plain": [
       "   question_id     model_a          model_b   winner      judge  \\\n",
       "0           81  alpaca-13b    gpt-3.5-turbo  model_b   author_2   \n",
       "1           81  alpaca-13b    gpt-3.5-turbo  model_b   author_2   \n",
       "2           81  alpaca-13b    gpt-3.5-turbo  model_b  expert_17   \n",
       "3           81  alpaca-13b    gpt-3.5-turbo  model_b  expert_17   \n",
       "4           81  alpaca-13b  vicuna-13b-v1.2  model_b   expert_0   \n",
       "\n",
       "                                      conversation_a  \\\n",
       "0  [{'content': 'Compose an engaging travel blog ...   \n",
       "1  [{'content': 'Compose an engaging travel blog ...   \n",
       "2  [{'content': 'Compose an engaging travel blog ...   \n",
       "3  [{'content': 'Compose an engaging travel blog ...   \n",
       "4  [{'content': 'Compose an engaging travel blog ...   \n",
       "\n",
       "                                      conversation_b  turn  winner_model_a  \\\n",
       "0  [{'content': 'Compose an engaging travel blog ...     1               0   \n",
       "1  [{'content': 'Compose an engaging travel blog ...     2               0   \n",
       "2  [{'content': 'Compose an engaging travel blog ...     1               0   \n",
       "3  [{'content': 'Compose an engaging travel blog ...     2               0   \n",
       "4  [{'content': 'Compose an engaging travel blog ...     1               0   \n",
       "\n",
       "   winner_tie  \n",
       "0           0  \n",
       "1           0  \n",
       "2           0  \n",
       "3           0  \n",
       "4           0  "
      ]
     },
     "execution_count": 133,
     "metadata": {},
     "output_type": "execute_result"
    }
   ],
   "source": [
    "# create a column winner_model_a, which is 1 if model_a is preferred, 0 if model_b is preferred\n",
    "df['winner_model_a'] = df['winner'].apply(lambda x: 1 if x == 'model_a' else 0)\n",
    "# create a column called winner_tie that is 1 if the winner is 'tie', else 0\n",
    "df['winner_tie'] = df['winner'].apply(lambda x: 1 if x == 'tie' else 0)\n",
    "df.head()"
   ]
  },
  {
   "cell_type": "code",
   "execution_count": 134,
   "metadata": {},
   "outputs": [
    {
     "name": "stdout",
     "output_type": "stream",
     "text": [
      "Number of ties: 780\n",
      "Proportion of ties: 23.25%\n"
     ]
    }
   ],
   "source": [
    "ties = df[df['winner_tie'] == 1]\n",
    "print(f\"Number of ties: {len(ties)}\")\n",
    "# proportion of ties.\n",
    "print(f\"Proportion of ties: {len(ties) / len(df):.2%}\")\n",
    "# note, the proportion of ties is 9.17% for the LLM-as-judge data and 23.25% for the human-as-judge data."
   ]
  },
  {
   "cell_type": "code",
   "execution_count": 135,
   "metadata": {},
   "outputs": [
    {
     "data": {
      "text/plain": [
       "(2575, 3)"
      ]
     },
     "execution_count": 135,
     "metadata": {},
     "output_type": "execute_result"
    }
   ],
   "source": [
    "# drop rows in df with df['winner_tie'] == 1\n",
    "df_ties_dropped = df[df['winner_tie'] == 0]\n",
    "df_ties_dropped.shape\n",
    "rawBT_noTies = df_ties_dropped[['model_a', 'model_b', 'winner_model_a']]\n",
    "rawBT_noTies.head() # (2575, 3)\n",
    "rawBT_noTies.shape"
   ]
  },
  {
   "cell_type": "code",
   "execution_count": 136,
   "metadata": {},
   "outputs": [
    {
     "name": "stdout",
     "output_type": "stream",
     "text": [
      "Number of unique model names: 6\n"
     ]
    }
   ],
   "source": [
    "# how to get the unique names in both columns\n",
    "model_a_names = df['model_a'].unique()\n",
    "model_b_names = df['model_b'].unique()\n",
    "# combine the two arrays and get the unique names\n",
    "model_names = np.unique(np.concatenate((model_a_names, model_b_names)))\n",
    "# print the number of unique model names\n",
    "print(f\"Number of unique model names: {len(model_names)}\")"
   ]
  },
  {
   "cell_type": "code",
   "execution_count": 137,
   "metadata": {},
   "outputs": [
    {
     "name": "stdout",
     "output_type": "stream",
     "text": [
      "alpaca-13b: 788\n",
      "claude-v1: 761\n",
      "gpt-3.5-turbo: 1081\n",
      "gpt-4: 807\n",
      "llama-13b: 901\n",
      "vicuna-13b-v1.2: 812\n"
     ]
    }
   ],
   "source": [
    "for model in model_names:\n",
    "    filtered = df_ties_dropped[\n",
    "        (df_ties_dropped['model_a'] == model) | \n",
    "        (df_ties_dropped['model_b'] == model)\n",
    "    ]\n",
    "    print(f\"{model}: {filtered.shape[0]}\")"
   ]
  },
  {
   "cell_type": "code",
   "execution_count": null,
   "metadata": {},
   "outputs": [
    {
     "data": {
      "text/plain": [
       "((2575, 5), (2575,))"
      ]
     },
     "execution_count": 138,
     "metadata": {},
     "output_type": "execute_result"
    }
   ],
   "source": [
    "# make the BT design matrix.\n",
    "X, y, player_to_id = make_BT_design_matrix(rawBT_noTies)\n",
    "X.shape, y.shape"
   ]
  },
  {
   "cell_type": "markdown",
   "metadata": {},
   "source": [
    "#### Run Top-k Robustness Check."
   ]
  },
  {
   "cell_type": "code",
   "execution_count": null,
   "metadata": {},
   "outputs": [
    {
     "name": "stdout",
     "output_type": "stream",
     "text": [
      "testing new matchup:  4 None\n",
      "testing new matchup:  3 4\n",
      "testing new matchup:  1 4\n",
      "testing new matchup:  0 4\n",
      "testing new matchup:  2 4\n",
      "testing new matchup:  4 None\n",
      "testing new matchup:  3 4\n",
      "testing new matchup:  1 4\n",
      "testing new matchup:  0 4\n",
      "testing new matchup:  2 4\n",
      "testing new matchup:  4 None\n",
      "testing new matchup:  3 4\n",
      "testing new matchup:  1 4\n",
      "testing new matchup:  0 4\n",
      "testing new matchup:  2 4\n",
      "testing new matchup:  4 None\n",
      "testing new matchup:  3 4\n",
      "testing new matchup:  1 4\n",
      "testing new matchup:  0 4\n",
      "testing new matchup:  2 4\n",
      "testing new matchup:  4 None\n",
      "testing new matchup:  3 4\n",
      "testing new matchup:  1 4\n",
      "testing new matchup:  0 4\n",
      "testing new matchup:  2 4\n",
      "testing new matchup:  4 None\n",
      "testing new matchup:  3 4\n",
      "testing new matchup:  1 4\n",
      "testing new matchup:  0 4\n",
      "testing new matchup:  2 4\n",
      "testing new matchup:  4 None\n",
      "testing new matchup:  3 4\n",
      "testing new matchup:  1 4\n",
      "testing new matchup:  0 4\n",
      "testing new matchup:  2 4\n",
      "testing new matchup:  4 None\n",
      "testing new matchup:  3 4\n",
      "testing new matchup:  1 4\n",
      "testing new matchup:  0 4\n",
      "testing new matchup:  2 4\n",
      "testing new matchup:  4 None\n",
      "testing new matchup:  3 4\n",
      "testing new matchup:  1 4\n",
      "testing new matchup:  0 4\n",
      "testing new matchup:  2 4\n",
      "testing new matchup:  4 None\n",
      "testing new matchup:  3 4\n",
      "testing new matchup:  1 4\n",
      "testing new matchup:  0 4\n",
      "testing new matchup:  2 4\n",
      "testing new matchup:  4 None\n",
      "testing new matchup:  3 4\n",
      "testing new matchup:  1 4\n",
      "testing new matchup:  0 4\n",
      "testing new matchup:  2 4\n",
      "testing new matchup:  4 None\n",
      "testing new matchup:  3 4\n",
      "testing new matchup:  1 4\n",
      "testing new matchup:  0 4\n",
      "testing new matchup:  2 4\n",
      "testing new matchup:  4 None\n",
      "testing new matchup:  3 4\n",
      "testing new matchup:  1 4\n",
      "testing new matchup:  0 4\n",
      "testing new matchup:  2 4\n",
      "testing new matchup:  4 None\n",
      "testing new matchup:  3 4\n",
      "testing new matchup:  1 4\n",
      "testing new matchup:  0 4\n",
      "testing new matchup:  2 4\n",
      "testing new matchup:  4 None\n",
      "testing new matchup:  3 4\n",
      "testing new matchup:  1 4\n",
      "testing new matchup:  0 4\n",
      "testing new matchup:  2 4\n",
      "testing new matchup:  4 None\n",
      "testing new matchup:  3 4\n",
      "testing new matchup:  1 4\n",
      "testing new matchup:  0 4\n",
      "testing new matchup:  2 4\n",
      "testing new matchup:  4 None\n",
      "testing new matchup:  3 4\n",
      "testing new matchup:  1 4\n",
      "testing new matchup:  0 4\n",
      "testing new matchup:  2 4\n",
      "testing new matchup:  4 None\n",
      "testing new matchup:  3 4\n",
      "testing new matchup:  1 4\n",
      "testing new matchup:  0 4\n",
      "testing new matchup:  2 4\n",
      "testing new matchup:  4 None\n",
      "testing new matchup:  3 4\n",
      "testing new matchup:  1 4\n",
      "testing new matchup:  0 4\n",
      "testing new matchup:  2 4\n",
      "testing new matchup:  4 None\n",
      "testing new matchup:  3 4\n",
      "testing new matchup:  1 4\n",
      "testing new matchup:  0 4\n",
      "testing new matchup:  2 4\n",
      "testing new matchup:  4 None\n",
      "testing new matchup:  3 4\n",
      "testing new matchup:  1 4\n",
      "testing new matchup:  0 4\n",
      "testing new matchup:  2 4\n",
      "testing new matchup:  4 None\n",
      "testing new matchup:  3 4\n",
      "testing new matchup:  1 4\n",
      "testing new matchup:  0 4\n",
      "testing new matchup:  2 4\n",
      "testing new matchup:  4 None\n",
      "testing new matchup:  3 4\n",
      "testing new matchup:  1 4\n",
      "testing new matchup:  0 4\n",
      "testing new matchup:  2 4\n",
      "testing new matchup:  4 None\n",
      "testing new matchup:  3 4\n",
      "testing new matchup:  1 4\n",
      "testing new matchup:  0 4\n",
      "testing new matchup:  2 4\n",
      "testing new matchup:  4 None\n",
      "testing new matchup:  3 4\n",
      "testing new matchup:  1 4\n",
      "testing new matchup:  0 4\n",
      "testing new matchup:  2 4\n",
      "testing new matchup:  4 None\n",
      "testing new matchup:  3 4\n",
      "testing new matchup:  1 4\n",
      "testing new matchup:  0 4\n",
      "testing new matchup:  2 4\n",
      "testing new matchup:  4 None\n",
      "testing new matchup:  3 4\n",
      "testing new matchup:  1 4\n",
      "testing new matchup:  0 4\n",
      "testing new matchup:  2 4\n",
      "testing new matchup:  4 None\n",
      "testing new matchup:  3 4\n",
      "testing new matchup:  1 4\n",
      "testing new matchup:  0 4\n",
      "testing new matchup:  2 4\n",
      "testing new matchup:  4 None\n",
      "testing new matchup:  3 4\n",
      "testing new matchup:  1 4\n",
      "testing new matchup:  0 4\n",
      "testing new matchup:  2 4\n",
      "testing new matchup:  4 None\n",
      "testing new matchup:  3 4\n",
      "testing new matchup:  1 4\n",
      "testing new matchup:  0 4\n",
      "testing new matchup:  2 4\n",
      "testing new matchup:  4 None\n",
      "testing new matchup:  3 4\n",
      "testing new matchup:  1 4\n",
      "testing new matchup:  0 4\n",
      "testing new matchup:  2 4\n",
      "testing new matchup:  4 None\n",
      "testing new matchup:  3 4\n",
      "testing new matchup:  1 4\n",
      "testing new matchup:  0 4\n",
      "testing new matchup:  2 4\n",
      "testing new matchup:  4 None\n",
      "testing new matchup:  3 4\n",
      "testing new matchup:  1 4\n",
      "testing new matchup:  0 4\n",
      "testing new matchup:  2 4\n",
      "testing new matchup:  4 None\n",
      "testing new matchup:  3 4\n",
      "testing new matchup:  1 4\n",
      "testing new matchup:  0 4\n",
      "testing new matchup:  2 4\n",
      "testing new matchup:  4 None\n",
      "testing new matchup:  3 4\n",
      "testing new matchup:  1 4\n",
      "testing new matchup:  0 4\n",
      "testing new matchup:  2 4\n",
      "testing new matchup:  4 None\n",
      "testing new matchup:  3 4\n",
      "testing new matchup:  1 4\n",
      "testing new matchup:  0 4\n",
      "testing new matchup:  2 4\n",
      "testing new matchup:  4 None\n",
      "testing new matchup:  3 4\n",
      "testing new matchup:  1 4\n",
      "testing new matchup:  0 4\n",
      "testing new matchup:  2 4\n",
      "testing new matchup:  4 None\n",
      "testing new matchup:  3 4\n",
      "testing new matchup:  1 4\n",
      "testing new matchup:  0 4\n",
      "testing new matchup:  2 4\n",
      "testing new matchup:  4 None\n",
      "testing new matchup:  3 4\n",
      "testing new matchup:  1 4\n",
      "testing new matchup:  0 4\n",
      "testing new matchup:  2 4\n",
      "testing new matchup:  4 None\n",
      "testing new matchup:  3 4\n",
      "testing new matchup:  1 4\n",
      "testing new matchup:  0 4\n",
      "testing new matchup:  2 4\n",
      "testing new matchup:  4 None\n",
      "testing new matchup:  3 4\n",
      "testing new matchup:  1 4\n",
      "testing new matchup:  0 4\n",
      "testing new matchup:  2 4\n",
      "testing new matchup:  4 None\n",
      "testing new matchup:  3 4\n",
      "testing new matchup:  1 4\n",
      "testing new matchup:  0 4\n",
      "testing new matchup:  2 4\n",
      "testing new matchup:  4 None\n",
      "testing new matchup:  3 4\n",
      "testing new matchup:  1 4\n",
      "testing new matchup:  0 4\n",
      "testing new matchup:  2 4\n",
      "testing new matchup:  4 None\n",
      "testing new matchup:  3 4\n",
      "testing new matchup:  1 4\n",
      "testing new matchup:  0 4\n",
      "testing new matchup:  2 4\n",
      "testing new matchup:  4 None\n",
      "testing new matchup:  3 4\n",
      "testing new matchup:  1 4\n",
      "testing new matchup:  0 4\n",
      "testing new matchup:  2 4\n",
      "testing new matchup:  4 None\n",
      "testing new matchup:  3 4\n",
      "testing new matchup:  1 4\n",
      "testing new matchup:  0 4\n",
      "testing new matchup:  2 4\n",
      "testing new matchup:  4 None\n",
      "testing new matchup:  3 4\n",
      "testing new matchup:  1 4\n",
      "testing new matchup:  0 4\n",
      "testing new matchup:  2 4\n",
      "testing new matchup:  4 None\n",
      "testing new matchup:  3 4\n",
      "testing new matchup:  1 4\n",
      "testing new matchup:  0 4\n",
      "testing new matchup:  2 4\n",
      "testing new matchup:  4 None\n",
      "testing new matchup:  3 4\n",
      "testing new matchup:  1 4\n",
      "testing new matchup:  0 4\n",
      "testing new matchup:  2 4\n",
      "testing new matchup:  4 None\n",
      "testing new matchup:  3 4\n",
      "testing new matchup:  1 4\n",
      "testing new matchup:  0 4\n",
      "testing new matchup:  2 4\n",
      "testing new matchup:  4 None\n",
      "testing new matchup:  3 4\n",
      "testing new matchup:  1 4\n",
      "testing new matchup:  0 4\n",
      "testing new matchup:  2 4\n",
      "testing new matchup:  4 None\n",
      "testing new matchup:  3 4\n",
      "testing new matchup:  1 4\n",
      "testing new matchup:  0 4\n",
      "testing new matchup:  2 4\n",
      "testing new matchup:  4 None\n",
      "testing new matchup:  3 4\n",
      "testing new matchup:  1 4\n",
      "testing new matchup:  0 4\n",
      "testing new matchup:  2 4\n",
      "testing new matchup:  4 None\n",
      "testing new matchup:  3 4\n",
      "testing new matchup:  1 4\n",
      "testing new matchup:  0 4\n",
      "testing new matchup:  2 4\n",
      "testing new matchup:  4 None\n",
      "testing new matchup:  3 4\n",
      "testing new matchup:  1 4\n",
      "testing new matchup:  0 4\n",
      "testing new matchup:  2 4\n",
      "testing new matchup:  4 None\n",
      "testing new matchup:  3 4\n",
      "testing new matchup:  1 4\n",
      "testing new matchup:  0 4\n",
      "testing new matchup:  2 4\n",
      "testing new matchup:  4 None\n",
      "testing new matchup:  3 4\n",
      "testing new matchup:  1 4\n",
      "testing new matchup:  0 4\n",
      "testing new matchup:  2 4\n",
      "testing new matchup:  4 None\n",
      "testing new matchup:  3 4\n",
      "testing new matchup:  1 4\n",
      "testing new matchup:  0 4\n",
      "testing new matchup:  2 4\n",
      "testing new matchup:  4 None\n",
      "testing new matchup:  3 4\n",
      "testing new matchup:  1 4\n",
      "testing new matchup:  0 4\n",
      "testing new matchup:  2 4\n",
      "testing new matchup:  4 None\n",
      "testing new matchup:  3 4\n",
      "testing new matchup:  1 4\n",
      "testing new matchup:  0 4\n",
      "testing new matchup:  2 4\n",
      "testing new matchup:  4 None\n",
      "testing new matchup:  3 4\n",
      "testing new matchup:  1 4\n",
      "testing new matchup:  0 4\n",
      "testing new matchup:  2 4\n",
      "testing new matchup:  4 None\n",
      "testing new matchup:  3 4\n",
      "testing new matchup:  1 4\n",
      "testing new matchup:  0 4\n",
      "testing new matchup:  2 4\n",
      "testing new matchup:  4 None\n",
      "testing new matchup:  3 4\n",
      "testing new matchup:  1 4\n",
      "testing new matchup:  0 4\n",
      "testing new matchup:  2 4\n",
      "testing new matchup:  4 None\n",
      "testing new matchup:  3 4\n",
      "testing new matchup:  1 4\n",
      "testing new matchup:  0 4\n",
      "testing new matchup:  2 4\n",
      "testing new matchup:  4 None\n",
      "testing new matchup:  3 4\n",
      "testing new matchup:  1 4\n",
      "testing new matchup:  0 4\n",
      "testing new matchup:  2 4\n",
      "testing new matchup:  4 None\n",
      "testing new matchup:  3 4\n",
      "testing new matchup:  1 4\n",
      "testing new matchup:  0 4\n",
      "testing new matchup:  2 4\n",
      "testing new matchup:  4 None\n",
      "testing new matchup:  3 4\n",
      "testing new matchup:  1 4\n",
      "testing new matchup:  0 4\n",
      "testing new matchup:  2 4\n",
      "testing new matchup:  4 None\n",
      "testing new matchup:  3 4\n",
      "testing new matchup:  1 4\n",
      "testing new matchup:  0 4\n",
      "testing new matchup:  2 4\n",
      "testing new matchup:  4 None\n",
      "testing new matchup:  3 4\n",
      "testing new matchup:  1 4\n",
      "testing new matchup:  0 4\n",
      "testing new matchup:  2 4\n",
      "testing new matchup:  4 None\n",
      "testing new matchup:  3 4\n",
      "testing new matchup:  1 4\n",
      "testing new matchup:  0 4\n",
      "testing new matchup:  2 4\n",
      "testing new matchup:  4 None\n",
      "testing new matchup:  3 4\n",
      "testing new matchup:  1 4\n",
      "testing new matchup:  0 4\n",
      "testing new matchup:  2 4\n",
      "testing new matchup:  4 None\n",
      "testing new matchup:  3 4\n",
      "testing new matchup:  1 4\n",
      "testing new matchup:  0 4\n",
      "testing new matchup:  2 4\n",
      "testing new matchup:  4 None\n",
      "testing new matchup:  3 4\n",
      "testing new matchup:  1 4\n",
      "testing new matchup:  0 4\n",
      "testing new matchup:  2 4\n",
      "testing new matchup:  4 None\n",
      "testing new matchup:  3 4\n",
      "testing new matchup:  1 4\n",
      "testing new matchup:  0 4\n",
      "testing new matchup:  2 4\n",
      "testing new matchup:  4 None\n",
      "testing new matchup:  3 4\n",
      "testing new matchup:  1 4\n",
      "testing new matchup:  0 4\n",
      "testing new matchup:  2 4\n",
      "testing new matchup:  4 None\n",
      "testing new matchup:  3 4\n",
      "testing new matchup:  1 4\n",
      "testing new matchup:  0 4\n",
      "testing new matchup:  2 4\n",
      "testing new matchup:  4 None\n",
      "testing new matchup:  3 4\n",
      "testing new matchup:  1 4\n",
      "testing new matchup:  0 4\n",
      "testing new matchup:  2 4\n",
      "testing new matchup:  4 None\n",
      "testing new matchup:  3 4\n",
      "testing new matchup:  1 4\n",
      "testing new matchup:  0 4\n",
      "testing new matchup:  2 4\n",
      "testing new matchup:  4 None\n",
      "testing new matchup:  3 4\n",
      "testing new matchup:  1 4\n",
      "testing new matchup:  0 4\n",
      "testing new matchup:  2 4\n",
      "testing new matchup:  4 None\n",
      "testing new matchup:  3 4\n",
      "testing new matchup:  1 4\n",
      "testing new matchup:  0 4\n",
      "testing new matchup:  2 4\n",
      "testing new matchup:  4 None\n",
      "testing new matchup:  3 4\n",
      "testing new matchup:  1 4\n",
      "testing new matchup:  0 4\n",
      "testing new matchup:  2 4\n",
      "testing new matchup:  4 None\n",
      "testing new matchup:  3 4\n",
      "testing new matchup:  1 4\n",
      "testing new matchup:  0 4\n",
      "testing new matchup:  2 4\n",
      "testing new matchup:  4 None\n",
      "testing new matchup:  3 4\n",
      "testing new matchup:  1 4\n",
      "testing new matchup:  0 4\n",
      "testing new matchup:  2 4\n",
      "testing new matchup:  4 None\n",
      "testing new matchup:  3 4\n",
      "testing new matchup:  1 4\n",
      "testing new matchup:  0 4\n",
      "testing new matchup:  2 4\n",
      "testing new matchup:  4 None\n",
      "testing new matchup:  3 4\n",
      "testing new matchup:  1 4\n",
      "testing new matchup:  0 4\n",
      "testing new matchup:  2 4\n",
      "testing new matchup:  4 None\n",
      "testing new matchup:  3 4\n",
      "testing new matchup:  1 4\n",
      "testing new matchup:  0 4\n",
      "testing new matchup:  2 4\n",
      "testing new matchup:  4 None\n",
      "testing new matchup:  3 4\n",
      "testing new matchup:  1 4\n",
      "testing new matchup:  0 4\n",
      "testing new matchup:  2 4\n",
      "testing new matchup:  4 None\n",
      "testing new matchup:  3 4\n",
      "testing new matchup:  1 4\n",
      "testing new matchup:  0 4\n",
      "testing new matchup:  2 4\n",
      "testing new matchup:  4 None\n",
      "testing new matchup:  3 4\n",
      "testing new matchup:  1 4\n",
      "testing new matchup:  0 4\n",
      "testing new matchup:  2 4\n",
      "testing new matchup:  4 None\n",
      "testing new matchup:  3 4\n",
      "testing new matchup:  1 4\n",
      "testing new matchup:  0 4\n",
      "testing new matchup:  2 4\n",
      "testing new matchup:  4 None\n",
      "testing new matchup:  3 4\n",
      "testing new matchup:  1 4\n",
      "testing new matchup:  0 4\n",
      "testing new matchup:  2 4\n",
      "testing new matchup:  4 None\n",
      "testing new matchup:  3 4\n",
      "testing new matchup:  1 4\n",
      "testing new matchup:  0 4\n",
      "testing new matchup:  2 4\n",
      "testing new matchup:  4 None\n",
      "testing new matchup:  3 4\n",
      "testing new matchup:  1 4\n",
      "testing new matchup:  0 4\n",
      "testing new matchup:  2 4\n",
      "testing new matchup:  4 None\n",
      "testing new matchup:  3 4\n",
      "testing new matchup:  1 4\n",
      "testing new matchup:  0 4\n",
      "testing new matchup:  2 4\n",
      "testing new matchup:  4 None\n",
      "testing new matchup:  3 4\n",
      "testing new matchup:  1 4\n",
      "testing new matchup:  0 4\n",
      "testing new matchup:  2 4\n",
      "testing new matchup:  4 None\n",
      "testing new matchup:  3 4\n",
      "testing new matchup:  1 4\n",
      "testing new matchup:  0 4\n",
      "testing new matchup:  2 4\n",
      "testing new matchup:  4 None\n",
      "testing new matchup:  3 4\n",
      "testing new matchup:  1 4\n",
      "testing new matchup:  0 4\n",
      "testing new matchup:  2 4\n",
      "testing new matchup:  4 None\n",
      "testing new matchup:  3 4\n",
      "testing new matchup:  1 4\n",
      "testing new matchup:  0 4\n",
      "testing new matchup:  2 4\n",
      "testing new matchup:  4 None\n",
      "testing new matchup:  3 4\n",
      "testing new matchup:  1 4\n",
      "testing new matchup:  0 4\n",
      "testing new matchup:  2 4\n",
      "testing new matchup:  4 None\n",
      "testing new matchup:  3 4\n",
      "testing new matchup:  1 4\n",
      "testing new matchup:  0 4\n",
      "testing new matchup:  2 4\n",
      "testing new matchup:  4 None\n",
      "testing new matchup:  3 4\n",
      "testing new matchup:  1 4\n",
      "testing new matchup:  0 4\n",
      "testing new matchup:  2 4\n",
      "testing new matchup:  4 None\n",
      "testing new matchup:  3 4\n",
      "testing new matchup:  1 4\n",
      "testing new matchup:  0 4\n",
      "testing new matchup:  2 4\n",
      "testing new matchup:  4 None\n",
      "testing new matchup:  3 4\n",
      "testing new matchup:  1 4\n",
      "testing new matchup:  0 4\n",
      "testing new matchup:  2 4\n",
      "testing new matchup:  4 None\n",
      "testing new matchup:  3 4\n",
      "testing new matchup:  1 4\n",
      "testing new matchup:  0 4\n",
      "testing new matchup:  2 4\n",
      "testing new matchup:  4 None\n",
      "testing new matchup:  3 4\n",
      "testing new matchup:  1 4\n",
      "testing new matchup:  0 4\n",
      "testing new matchup:  2 4\n",
      "testing new matchup:  4 None\n",
      "testing new matchup:  3 4\n",
      "testing new matchup:  1 4\n",
      "testing new matchup:  0 4\n",
      "testing new matchup:  2 4\n",
      "testing new matchup:  4 None\n",
      "testing new matchup:  3 4\n",
      "testing new matchup:  1 4\n",
      "testing new matchup:  0 4\n",
      "testing new matchup:  2 4\n",
      "testing new matchup:  4 None\n",
      "testing new matchup:  3 4\n",
      "testing new matchup:  1 4\n",
      "testing new matchup:  0 4\n",
      "testing new matchup:  2 4\n",
      "testing new matchup:  4 None\n",
      "testing new matchup:  3 4\n",
      "testing new matchup:  1 4\n",
      "testing new matchup:  0 4\n",
      "testing new matchup:  2 4\n",
      "testing new matchup:  4 None\n",
      "testing new matchup:  3 4\n",
      "testing new matchup:  1 4\n",
      "testing new matchup:  0 4\n",
      "testing new matchup:  2 4\n",
      "testing new matchup:  4 None\n"
     ]
    }
   ],
   "source": [
    "ks = [5]\n",
    "results = {}\n",
    "for k in ks:\n",
    "    alphaN = 1\n",
    "    chatbotA = -1\n",
    "    while chatbotA == -1:\n",
    "        chatbotA, chatbotB, chatbotOriginalBetaDiff, chatNewBetaDiff, chatIndices = isRankingRobust(k, alphaN, X, y)\n",
    "        results[(k, alphaN)] = (chatbotA, chatbotB, chatbotOriginalBetaDiff, chatNewBetaDiff, chatIndices)\n",
    "        alphaN += 1"
   ]
  },
  {
   "cell_type": "code",
   "execution_count": 140,
   "metadata": {},
   "outputs": [
    {
     "data": {
      "text/plain": [
       "{(5, 111): (4,\n",
       "  None,\n",
       "  -1.0035212194110734,\n",
       "  0.013504736635853335,\n",
       "  array([ 917, 2446,  235,  397,   85,   84,  878, 1498, 1243,  685,  686,\n",
       "         1298, 1105,  866,  547,  908,  250,  678,  679,  680,  681,  885,\n",
       "          906, 1335,  259, 1307,  423, 1796, 1809, 1808,  381,  322,  697,\n",
       "          683,  684,  696, 1583,  873,  907,  911, 1109,  321, 1765,   37,\n",
       "          141, 2173,  115,   38, 2168,   36,  143,  142, 2169,  775,  774,\n",
       "         2461, 2462, 1598, 1486, 2464, 1487, 1597, 1518, 1573,  129,  777,\n",
       "          776,  856, 1574,  764, 1976,  106,  868,  273, 2431, 1246, 1245,\n",
       "         1300, 1301,   25, 1106, 2189, 1321, 1073, 1337, 2409, 1485, 2188,\n",
       "         2187, 2561, 2186, 2407, 2406, 1599, 2480, 2481,  548,  538, 2129,\n",
       "         1799, 2102, 2014,  237, 2013, 1895,  327,  326, 2012, 2011,  305,\n",
       "          304]))}"
      ]
     },
     "execution_count": 140,
     "metadata": {},
     "output_type": "execute_result"
    }
   ],
   "source": [
    "# find the (k, alpha N) pairs that are non-robust.\n",
    "results_nonrobust = {k: v for k, v in results.items() if v[0] != -1}\n",
    "results_nonrobust"
   ]
  },
  {
   "cell_type": "code",
   "execution_count": null,
   "metadata": {},
   "outputs": [
    {
     "name": "stdout",
     "output_type": "stream",
     "text": [
      "alpaca-13b: 788\n",
      "claude-v1: 761\n",
      "gpt-3.5-turbo: 1081\n",
      "gpt-4: 807\n",
      "llama-13b: 901\n",
      "vicuna-13b-v1.2: 812\n"
     ]
    }
   ],
   "source": [
    "for model in model_names:\n",
    "    filtered = df_ties_dropped[\n",
    "        (df_ties_dropped['model_a'] == model) | \n",
    "        (df_ties_dropped['model_b'] == model)\n",
    "    ]\n",
    "    print(f\"{model}: {filtered.shape[0]}\")"
   ]
  },
  {
   "cell_type": "code",
   "execution_count": null,
   "metadata": {},
   "outputs": [
    {
     "data": {
      "text/plain": [
       "<module 'package.RankAMIP.plot_util' from '/Users/JennyH/Desktop/IsRankingRobust/package/RankAMIP/plot_util.py'>"
      ]
     },
     "execution_count": 113,
     "metadata": {},
     "output_type": "execute_result"
    }
   ],
   "source": [
    "from package.RankAMIP.plot_util import *\n",
    "rankings = return_rankings_list(X, y, results, 1, 27, player_to_id)"
   ]
  },
  {
   "cell_type": "code",
   "execution_count": null,
   "metadata": {},
   "outputs": [],
   "source": [
    "# plot the rankings on the original arena\n",
    "filename_to_save = 'fig/top6_mtb_llm.png'\n",
    "plot_title = 'Model Rankings in MT-Bench'\n",
    "plot_bt_scores(X, y, rankings, alphaN, 6, plot_title, filename_to_save)"
   ]
  },
  {
   "cell_type": "markdown",
   "metadata": {},
   "source": [
    "MT-Bench is robust to small-fraction $<1\\%$ data-dropping."
   ]
  },
  {
   "cell_type": "code",
   "execution_count": null,
   "metadata": {},
   "outputs": [
    {
     "data": {
      "text/plain": [
       "(2180, 3)"
      ]
     },
     "execution_count": 117,
     "metadata": {},
     "output_type": "execute_result"
    }
   ],
   "source": [
    "# 83 evals were dropped to change models 2 and 0.\n",
    "# player_to_id # (2 + 1 (adding in the none index): 'gpt-4', 1: 'claude-v1')\n",
    "# load in mt_bench_llm_noTies.csv\n",
    "mt_bench_llm_noTies = pd.read_csv(\"data/mt_bench_llm_noTies.csv\")\n",
    "mt_bench_llm_noTies.shape"
   ]
  },
  {
   "cell_type": "markdown",
   "metadata": {},
   "source": [
    "#### Below, we inspect the ranking flip between the first- and second-place models."
   ]
  },
  {
   "cell_type": "code",
   "execution_count": null,
   "metadata": {},
   "outputs": [
    {
     "name": "stdout",
     "output_type": "stream",
     "text": [
      "Number of games between 'gpt-4' and 'claude-v1':  145\n"
     ]
    }
   ],
   "source": [
    "# find the two models that changed ranking.\n",
    "## Count number of games between the first- and second-place models played in total.\n",
    "is_gpt_claude = (\n",
    "    (mt_bench_llm_noTies['model_a'].str.contains('gpt-4') & mt_bench_llm_noTies['model_b'].str.contains('claude-v1')) |\n",
    "    (mt_bench_llm_noTies['model_a'].str.contains('claude-v1') & mt_bench_llm_noTies['model_b'].str.contains('gpt-4'))\n",
    ")\n",
    "\n",
    "num_gpt_claude = mt_bench_llm_noTies[is_gpt_claude].shape[0]\n",
    "print(\"Number of games between 'gpt-4' and 'claude-v1': \", num_gpt_claude)"
   ]
  },
  {
   "cell_type": "code",
   "execution_count": null,
   "metadata": {},
   "outputs": [
    {
     "data": {
      "text/plain": [
       "0                (alpaca-13b, claude-v1)\n",
       "1                (alpaca-13b, claude-v1)\n",
       "2            (alpaca-13b, gpt-3.5-turbo)\n",
       "3            (alpaca-13b, gpt-3.5-turbo)\n",
       "4                    (alpaca-13b, gpt-4)\n",
       "                      ...               \n",
       "2175        (claude-v1, vicuna-13b-v1.2)\n",
       "2176    (gpt-3.5-turbo, vicuna-13b-v1.2)\n",
       "2177    (gpt-3.5-turbo, vicuna-13b-v1.2)\n",
       "2178            (gpt-4, vicuna-13b-v1.2)\n",
       "2179            (gpt-4, vicuna-13b-v1.2)\n",
       "Name: model_pair, Length: 2180, dtype: object"
      ]
     },
     "execution_count": 122,
     "metadata": {},
     "output_type": "execute_result"
    }
   ],
   "source": [
    "# model pairs\n",
    "mt_bench_llm_noTies['model_pair'] = mt_bench_llm_noTies.apply(lambda row: tuple(sorted([row['model_a'], row['model_b']])), axis=1)\n",
    "mt_bench_llm_noTies['model_pair']"
   ]
  },
  {
   "cell_type": "code",
   "execution_count": null,
   "metadata": {},
   "outputs": [
    {
     "name": "stdout",
     "output_type": "stream",
     "text": [
      "Average number of games per model pair: 145.33333333333334\n"
     ]
    }
   ],
   "source": [
    "# Compute average games per model pair across the arena.\n",
    "pair_counts = mt_bench_llm_noTies['model_pair'].value_counts()\n",
    "average_games_per_pair = pair_counts.mean()\n",
    "print(\"Average number of games per model pair:\", average_games_per_pair)"
   ]
  },
  {
   "cell_type": "markdown",
   "metadata": {},
   "source": [
    "#### Find the win margin between 'gpt-4-0125-preview' and 'gpt-4-1106-preview'\n"
   ]
  },
  {
   "cell_type": "code",
   "execution_count": 129,
   "metadata": {},
   "outputs": [
    {
     "name": "stdout",
     "output_type": "stream",
     "text": [
      "Proportion of games that GPT-4 won:  0.5172413793103449\n"
     ]
    }
   ],
   "source": [
    "# that is, find all games that are between the two models.\n",
    "dfFlippedRanking = mt_bench_llm_noTies[is_gpt_claude]\n",
    "# find the win margin\n",
    "## Count number of games between that 'gpt-4' won.\n",
    "gpt4_wins = (\n",
    "    ((dfFlippedRanking['model_a']=='gpt-4') & (dfFlippedRanking['winner_model_a'] == 1)) |\n",
    "    ((dfFlippedRanking['model_b']=='gpt-4') & (dfFlippedRanking['winner_model_a'] == 0))\n",
    ")\n",
    "num_gpt4_wins = dfFlippedRanking[gpt4_wins].shape[0]\n",
    "print(\"Proportion of games that GPT-4 won: \", num_gpt4_wins / dfFlippedRanking.shape[0])"
   ]
  },
  {
   "cell_type": "code",
   "execution_count": 128,
   "metadata": {},
   "outputs": [
    {
     "name": "stdout",
     "output_type": "stream",
     "text": [
      "Proportion of games that claude won:  0.4827586206896552\n"
     ]
    }
   ],
   "source": [
    "claude_wins = (\n",
    "    ((dfFlippedRanking['model_a'] == 'claude-v1') & (dfFlippedRanking['winner_model_a'] == 1)) |\n",
    "    ((dfFlippedRanking['model_b'] == 'claude-v1') & (dfFlippedRanking['winner_model_a'] == 0))\n",
    ")\n",
    "num_claude_wins = dfFlippedRanking[claude_wins].shape[0]\n",
    "print(\"Proportion of games that claude won: \", num_claude_wins / dfFlippedRanking.shape[0])"
   ]
  },
  {
   "cell_type": "code",
   "execution_count": 72,
   "metadata": {},
   "outputs": [
    {
     "name": "stdout",
     "output_type": "stream",
     "text": [
      "Proportion of games that GPT-4-0125 won:  0.6413793103448275\n"
     ]
    }
   ],
   "source": [
    "claude_wins = (\n",
    "    (dfFlippedRanking['model_a'].str.contains('claude-v1') & dfFlippedRanking['winner_model_a'] == 1) |\n",
    "    (dfFlippedRanking['model_b'].str.contains('claude-v1') & dfFlippedRanking['winner_model_a'] == 0)\n",
    ")\n",
    "num_claude_wins = dfFlippedRanking[claude_wins].shape[0]\n",
    "print(\"Proportion of games that GPT-4-0125 won: \", num_claude_wins / dfFlippedRanking.shape[0])"
   ]
  },
  {
   "cell_type": "code",
   "execution_count": 73,
   "metadata": {},
   "outputs": [
    {
     "data": {
      "text/plain": [
       "(121, 93)"
      ]
     },
     "execution_count": 73,
     "metadata": {},
     "output_type": "execute_result"
    }
   ],
   "source": [
    "num_gpt4_wins, num_claude_wins"
   ]
  },
  {
   "cell_type": "code",
   "execution_count": null,
   "metadata": {},
   "outputs": [],
   "source": []
  },
  {
   "cell_type": "code",
   "execution_count": null,
   "metadata": {},
   "outputs": [],
   "source": []
  },
  {
   "cell_type": "code",
   "execution_count": null,
   "metadata": {},
   "outputs": [],
   "source": []
  }
 ],
 "metadata": {
  "kernelspec": {
   "display_name": "base",
   "language": "python",
   "name": "python3"
  },
  "language_info": {
   "codemirror_mode": {
    "name": "ipython",
    "version": 3
   },
   "file_extension": ".py",
   "mimetype": "text/x-python",
   "name": "python",
   "nbconvert_exporter": "python",
   "pygments_lexer": "ipython3",
   "version": "3.10.12"
  }
 },
 "nbformat": 4,
 "nbformat_minor": 2
}
